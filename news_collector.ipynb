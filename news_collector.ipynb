{
 "cells": [
  {
   "cell_type": "markdown",
   "metadata": {},
   "source": [
    "# News collector of headers and news full text from thomson reuters eikon terminal"
   ]
  },
  {
   "cell_type": "markdown",
   "metadata": {},
   "source": [
    "# Imports"
   ]
  },
  {
   "cell_type": "markdown",
   "metadata": {},
   "source": [
    "## Ordinary imports"
   ]
  },
  {
   "cell_type": "code",
   "execution_count": 1,
   "metadata": {},
   "outputs": [],
   "source": [
    "from pandas_datareader import data\n",
    "from pandas_datareader._utils import RemoteDataError\n",
    "import matplotlib.pyplot as plt\n",
    "import pandas as pd\n",
    "import numpy as np\n",
    "import math\n",
    "import csv\n",
    "import re\n",
    "from datetime import datetime\n",
    "\n",
    "import openpyxl\n",
    "\n",
    "import os.path\n",
    "from os import path\n",
    "import time\n",
    "\n",
    "from pylab import rcParams\n",
    "plt.rcParams['figure.figsize'] = 16, 8"
   ]
  },
  {
   "cell_type": "code",
   "execution_count": 2,
   "metadata": {},
   "outputs": [],
   "source": [
    "# Consistent style for all plots\n",
    "fontsize_reg = 12\n",
    "fontsize_title = 16\n",
    "from pylab import rcParams\n",
    "rcParams['figure.facecolor'] = '1'\n",
    "rcParams['figure.figsize'] = [8.0, 3.5]\n",
    "rcParams['figure.dpi'] = 80\n",
    "rcParams['savefig.dpi'] = 600\n",
    "\n",
    "rcParams['font.size'] = 12\n",
    "rcParams['legend.fontsize'] = 'large'\n",
    "rcParams['figure.titlesize'] = 'large'"
   ]
  },
  {
   "cell_type": "markdown",
   "metadata": {},
   "source": [
    "## Eikon import to work with refinitiv eikon API"
   ]
  },
  {
   "cell_type": "code",
   "execution_count": 3,
   "metadata": {},
   "outputs": [],
   "source": [
    "# Get Started\n",
    "# https://github.com/Refinitiv-API-Samples/Article.EikonDataAPI.DotNet.Library\n",
    "# API limits\n",
    "# https://developers.refinitiv.com/en/api-catalog/eikon/eikon-data-api/documentation?content=49692&type=documentation_item\n",
    "import eikon as ek"
   ]
  },
  {
   "cell_type": "markdown",
   "metadata": {},
   "source": [
    "## Import custom function to collect news and prices, work with file system and modelling"
   ]
  },
  {
   "cell_type": "code",
   "execution_count": 4,
   "metadata": {},
   "outputs": [],
   "source": [
    "import trade_news_predict_prices"
   ]
  },
  {
   "cell_type": "markdown",
   "metadata": {},
   "source": [
    "# Some constants (path, random seeed, api key)"
   ]
  },
  {
   "cell_type": "code",
   "execution_count": 5,
   "metadata": {},
   "outputs": [
    {
     "data": {
      "text/html": [
       "<div>\n",
       "<style scoped>\n",
       "    .dataframe tbody tr th:only-of-type {\n",
       "        vertical-align: middle;\n",
       "    }\n",
       "\n",
       "    .dataframe tbody tr th {\n",
       "        vertical-align: top;\n",
       "    }\n",
       "\n",
       "    .dataframe thead th {\n",
       "        text-align: right;\n",
       "    }\n",
       "</style>\n",
       "<table border=\"1\" class=\"dataframe\">\n",
       "  <thead>\n",
       "    <tr style=\"text-align: right;\">\n",
       "      <th></th>\n",
       "      <th>value</th>\n",
       "    </tr>\n",
       "    <tr>\n",
       "      <th>variable_name</th>\n",
       "      <th></th>\n",
       "    </tr>\n",
       "  </thead>\n",
       "  <tbody>\n",
       "    <tr>\n",
       "      <th>random_seed</th>\n",
       "      <td>420</td>\n",
       "    </tr>\n",
       "    <tr>\n",
       "      <th>directory_path</th>\n",
       "      <td>C:/DAN/t_systems/trade_news</td>\n",
       "    </tr>\n",
       "    <tr>\n",
       "      <th>folder_name_headlines</th>\n",
       "      <td>data/backup_headlines/</td>\n",
       "    </tr>\n",
       "    <tr>\n",
       "      <th>folder_name_logger</th>\n",
       "      <td>data/logger/</td>\n",
       "    </tr>\n",
       "    <tr>\n",
       "      <th>folder_name_merged_news_and_prices</th>\n",
       "      <td>data/merged_news_and_prices/</td>\n",
       "    </tr>\n",
       "    <tr>\n",
       "      <th>set_app_key1</th>\n",
       "      <td>ccebd1ff788d4574818be93e35c4741925ac214e</td>\n",
       "    </tr>\n",
       "    <tr>\n",
       "      <th>set_app_key2</th>\n",
       "      <td>a8be043d709946238759b0c5cb34c8f90d4e6f2c</td>\n",
       "    </tr>\n",
       "  </tbody>\n",
       "</table>\n",
       "</div>"
      ],
      "text/plain": [
       "                                                                       value\n",
       "variable_name                                                               \n",
       "random_seed                                                              420\n",
       "directory_path                                   C:/DAN/t_systems/trade_news\n",
       "folder_name_headlines                                 data/backup_headlines/\n",
       "folder_name_logger                                              data/logger/\n",
       "folder_name_merged_news_and_prices              data/merged_news_and_prices/\n",
       "set_app_key1                        ccebd1ff788d4574818be93e35c4741925ac214e\n",
       "set_app_key2                        a8be043d709946238759b0c5cb34c8f90d4e6f2c"
      ]
     },
     "execution_count": 5,
     "metadata": {},
     "output_type": "execute_result"
    }
   ],
   "source": [
    "general_constants = pd.read_csv('general_constants.txt', sep=',', delimiter = \",\", header='infer', index_col='variable_name')\n",
    "general_constants"
   ]
  },
  {
   "cell_type": "code",
   "execution_count": 6,
   "metadata": {},
   "outputs": [
    {
     "name": "stdout",
     "output_type": "stream",
     "text": [
      "420\n",
      "C:/DAN/t_systems/trade_news\n"
     ]
    }
   ],
   "source": [
    "# Path to folder with directory is a constant value that stores in .txt\n",
    "# You can change them in some_constants.txt file or define them on your own.\n",
    "directory_path = str(general_constants.loc['directory_path'][0])\n",
    "random_seed = int(general_constants.loc['random_seed'][0])\n",
    "print(random_seed)\n",
    "print(directory_path)"
   ]
  },
  {
   "cell_type": "markdown",
   "metadata": {},
   "source": [
    "## Set API key"
   ]
  },
  {
   "cell_type": "code",
   "execution_count": 8,
   "metadata": {},
   "outputs": [
    {
     "name": "stdout",
     "output_type": "stream",
     "text": [
      "ccebd1ff788d4574818be93e35c4741925ac214e\n",
      "a8be043d709946238759b0c5cb34c8f90d4e6f2c\n"
     ]
    }
   ],
   "source": [
    "# Set API key to work with thomson reuters data\n",
    "# Make sure refiniv eikon terminal is running and not disconnected\n",
    "print(general_constants.loc['set_app_key1'][0])\n",
    "print(general_constants.loc['set_app_key2'][0])\n",
    "ek.set_app_key(general_constants.loc['set_app_key2'][0])"
   ]
  },
  {
   "cell_type": "markdown",
   "metadata": {},
   "source": [
    "# Read the df with a list of companies (rics) to get data about them"
   ]
  },
  {
   "cell_type": "code",
   "execution_count": 9,
   "metadata": {},
   "outputs": [
    {
     "data": {
      "text/html": [
       "<div>\n",
       "<style scoped>\n",
       "    .dataframe tbody tr th:only-of-type {\n",
       "        vertical-align: middle;\n",
       "    }\n",
       "\n",
       "    .dataframe tbody tr th {\n",
       "        vertical-align: top;\n",
       "    }\n",
       "\n",
       "    .dataframe thead th {\n",
       "        text-align: right;\n",
       "    }\n",
       "</style>\n",
       "<table border=\"1\" class=\"dataframe\">\n",
       "  <thead>\n",
       "    <tr style=\"text-align: right;\">\n",
       "      <th></th>\n",
       "      <th>ric</th>\n",
       "      <th>Company Common Name</th>\n",
       "      <th>Country of Exchange</th>\n",
       "      <th>Primary Country of Risk</th>\n",
       "      <th>TRBC Industry Group Name</th>\n",
       "      <th>TRBC Industry Name</th>\n",
       "      <th>Price Close</th>\n",
       "      <th>Company Market Cap</th>\n",
       "      <th>DAX</th>\n",
       "      <th>German_telecom</th>\n",
       "    </tr>\n",
       "  </thead>\n",
       "  <tbody>\n",
       "    <tr>\n",
       "      <th>0</th>\n",
       "      <td>DTEGn.DE</td>\n",
       "      <td>Deutsche Telekom AG</td>\n",
       "      <td>Germany</td>\n",
       "      <td>Germany</td>\n",
       "      <td>Telecommunications Services</td>\n",
       "      <td>Integrated Telecommunications Services</td>\n",
       "      <td>18.032030</td>\n",
       "      <td>8.580246e+10</td>\n",
       "      <td>1</td>\n",
       "      <td>1</td>\n",
       "    </tr>\n",
       "    <tr>\n",
       "      <th>1</th>\n",
       "      <td>SAPG.DE</td>\n",
       "      <td>SAP SE</td>\n",
       "      <td>Germany</td>\n",
       "      <td>Germany</td>\n",
       "      <td>Software &amp; IT Services</td>\n",
       "      <td>Software</td>\n",
       "      <td>122.335901</td>\n",
       "      <td>1.501916e+11</td>\n",
       "      <td>1</td>\n",
       "      <td>0</td>\n",
       "    </tr>\n",
       "  </tbody>\n",
       "</table>\n",
       "</div>"
      ],
      "text/plain": [
       "        ric  Company Common Name Country of Exchange Primary Country of Risk  \\\n",
       "0  DTEGn.DE  Deutsche Telekom AG             Germany                 Germany   \n",
       "1   SAPG.DE               SAP SE             Germany                 Germany   \n",
       "\n",
       "      TRBC Industry Group Name                      TRBC Industry Name  \\\n",
       "0  Telecommunications Services  Integrated Telecommunications Services   \n",
       "1       Software & IT Services                                Software   \n",
       "\n",
       "   Price Close  Company Market Cap  DAX  German_telecom  \n",
       "0    18.032030        8.580246e+10    1               1  \n",
       "1   122.335901        1.501916e+11    1               0  "
      ]
     },
     "execution_count": 9,
     "metadata": {},
     "output_type": "execute_result"
    }
   ],
   "source": [
    "rics_german_df = pd.read_excel('data/rics_decription/rics_german_excel.xlsx', engine='openpyxl')\n",
    "sort_cols = ['DAX', 'German_telecom', 'Company Market Cap']\n",
    "rics_german_df = rics_german_df.sort_values(by=sort_cols, ascending=False) # .reset_index(drop=True)\n",
    "rics_german_df.index = range(0, len(rics_german_df))\n",
    "rics_german_df.head(2)"
   ]
  },
  {
   "cell_type": "code",
   "execution_count": 10,
   "metadata": {},
   "outputs": [
    {
     "name": "stdout",
     "output_type": "stream",
     "text": [
      "German telekom companies: \n",
      " ['DTEGn.DE', 'O2Dn.DE', 'UTDI.DE', 'DRIG.DE', 'FNTGn.DE', 'TC1n.DE', 'NFN.DE', 'E4CG.DE', 'PH6.F']\n"
     ]
    }
   ],
   "source": [
    "condition_german = rics_german_df['Country of Exchange'] == 'Germany'\n",
    "condition_telecom = rics_german_df['TRBC Industry Group Name'] == 'Telecommunications Services'\n",
    "rics_german_telekom_df = rics_german_df[condition_german & condition_telecom]\n",
    "print('German telekom companies:', '\\n', list(rics_german_telekom_df['ric']))"
   ]
  },
  {
   "cell_type": "code",
   "execution_count": 11,
   "metadata": {},
   "outputs": [
    {
     "name": "stdout",
     "output_type": "stream",
     "text": [
      "DAX index companies: \n",
      " ['SAPG.DE', 'SIEGn.DE', 'ALVG.DE', 'VOWG_p.DE', 'DAIGn.DE', 'BASFn.DE', 'ADSGn.DE', 'DPWGn.DE', 'BMWG.DE', 'BAYGn.DE', 'IFXGn.DE', 'HNKG_p.DE', 'VNAn.DE', 'EONGn.DE', 'BEIG.DE', 'CONG.DE', 'RWEG.DE', 'FREG.DE', 'FMEG.DE', 'DBKGn.DE', 'MRCG.DE', 'HEIG.DE', 'CBKG.DE', 'LHAG.DE', 'TKAG.DE', 'PSMGn.DE']\n"
     ]
    }
   ],
   "source": [
    "condition_dax = (rics_german_df['DAX'] == 1) & (rics_german_df['German_telecom'] != 1)\n",
    "rics_dax = rics_german_df[condition_dax]\n",
    "print('DAX index companies:', '\\n', list(rics_dax['ric']))"
   ]
  },
  {
   "cell_type": "code",
   "execution_count": 12,
   "metadata": {},
   "outputs": [
    {
     "name": "stdout",
     "output_type": "stream",
     "text": [
      "Top-50 USA companies by market cap: \n",
      " ['Apple Inc', 'Microsoft Corp', 'Amazon.com Inc', 'Alphabet Inc', 'Tesla Inc', 'Facebook Inc', 'Alibaba Group Holding Ltd', 'Berkshire Hathaway Inc', 'Visa Inc', 'Johnson & Johnson', 'Walmart Inc', 'JPMorgan Chase & Co', 'Mastercard Inc', 'UnitedHealth Group Inc', 'Procter & Gamble Co', 'NVIDIA Corp', 'Walt Disney Co', 'Home Depot Inc', 'PayPal Holdings Inc', 'Bank of America Corp', 'Ishares S&P 500', 'Verizon Communications Inc', 'Comcast Corp', 'Adobe Inc', 'Nike Inc', 'Netflix Inc', 'Pinduoduo Inc', 'Coca-Cola Co', 'Intel Corp', 'Merck & Co Inc', 'Vanguard Idx Fund', 'AT&T Inc', 'Pfizer Inc', 'Salesforce.Com Inc', 'Thermo Fisher Scientific Inc', 'PepsiCo Inc', 'Abbott Laboratories', 'Exxon Mobil Corp', 'Cisco Systems Inc', 'Abbvie Inc', 'Oracle Corp', 'Vanguard 500 Index Fund', 'Broadcom Inc', 'Qualcomm Inc', 'Chevron Corp', 'Accenture PLC', 'Danaher Corp', 'T-Mobile US Inc', 'Costco Wholesale Corp', 'Medtronic PLC']\n"
     ]
    }
   ],
   "source": [
    "rics_usa_df = pd.read_excel('data/rics_decription/rics_usa_excel.xlsx', engine='openpyxl')\n",
    "print('Top-50 USA companies by market cap:', '\\n', list(rics_usa_df['Company Common Name'])[:50])"
   ]
  },
  {
   "cell_type": "code",
   "execution_count": 13,
   "metadata": {},
   "outputs": [
    {
     "data": {
      "text/html": [
       "<div>\n",
       "<style scoped>\n",
       "    .dataframe tbody tr th:only-of-type {\n",
       "        vertical-align: middle;\n",
       "    }\n",
       "\n",
       "    .dataframe tbody tr th {\n",
       "        vertical-align: top;\n",
       "    }\n",
       "\n",
       "    .dataframe thead th {\n",
       "        text-align: right;\n",
       "    }\n",
       "</style>\n",
       "<table border=\"1\" class=\"dataframe\">\n",
       "  <thead>\n",
       "    <tr style=\"text-align: right;\">\n",
       "      <th></th>\n",
       "      <th>rics_count</th>\n",
       "    </tr>\n",
       "    <tr>\n",
       "      <th>TRBC Industry Group Name</th>\n",
       "      <th></th>\n",
       "    </tr>\n",
       "  </thead>\n",
       "  <tbody>\n",
       "    <tr>\n",
       "      <th>Software &amp; IT Services</th>\n",
       "      <td>303</td>\n",
       "    </tr>\n",
       "    <tr>\n",
       "      <th>Biotechnology &amp; Medical Research</th>\n",
       "      <td>257</td>\n",
       "    </tr>\n",
       "    <tr>\n",
       "      <th>Banking Services</th>\n",
       "      <td>232</td>\n",
       "    </tr>\n",
       "    <tr>\n",
       "      <th>Residential &amp; Commercial REITs</th>\n",
       "      <td>174</td>\n",
       "    </tr>\n",
       "    <tr>\n",
       "      <th>Collective Investments</th>\n",
       "      <td>172</td>\n",
       "    </tr>\n",
       "  </tbody>\n",
       "</table>\n",
       "</div>"
      ],
      "text/plain": [
       "                                  rics_count\n",
       "TRBC Industry Group Name                    \n",
       "Software & IT Services                   303\n",
       "Biotechnology & Medical Research         257\n",
       "Banking Services                         232\n",
       "Residential & Commercial REITs           174\n",
       "Collective Investments                   172"
      ]
     },
     "execution_count": 13,
     "metadata": {},
     "output_type": "execute_result"
    }
   ],
   "source": [
    "# Top inductries in the USA file\n",
    "rics_usa_df[['TRBC Industry Group Name', 'ric']].groupby(['TRBC Industry Group Name']).agg(\n",
    "    rics_count=('ric', 'count')\n",
    ").sort_values(by='rics_count', ascending=False).head(5)"
   ]
  },
  {
   "cell_type": "markdown",
   "metadata": {},
   "source": [
    "# Create all_headlines_df and quasi logger"
   ]
  },
  {
   "cell_type": "code",
   "execution_count": 32,
   "metadata": {},
   "outputs": [],
   "source": [
    "# Create df which will contain all gathered news\n",
    "\n",
    "# To get started we can create empty dataframe\n",
    "trade_news_predict_prices.all_headlines_df = pd.DataFrame(data = [], columns=[\"ric\", \"versionCreated\", \"headline\", \"storyId\", \"sourceCode\", \"story\"])"
   ]
  },
  {
   "cell_type": "code",
   "execution_count": 15,
   "metadata": {},
   "outputs": [
    {
     "name": "stdout",
     "output_type": "stream",
     "text": [
      "(399141, 6) data/backup_headlines/all_headlines_df_2021-03-13_v3.csv\n"
     ]
    }
   ],
   "source": [
    "# # But we have created already this not empty df with some news\n",
    "# # So lets continue to add news to this df\n",
    "from trade_news_predict_prices import get_name_of_latest_file_in_folder \n",
    "latest_file = get_name_of_latest_file_in_folder(general_constants.loc['folder_name_headlines'][0])\n",
    "trade_news_predict_prices.all_headlines_df = pd.read_csv(latest_file, sep=';')\n",
    "trade_news_predict_prices.all_headlines_df['versionCreated'] = pd.to_datetime(trade_news_predict_prices.all_headlines_df['versionCreated'])\n",
    "print(trade_news_predict_prices.all_headlines_df.shape, latest_file)"
   ]
  },
  {
   "cell_type": "code",
   "execution_count": 33,
   "metadata": {},
   "outputs": [],
   "source": [
    "# Crate kinda logger\n",
    "\n",
    "# Empty alternative\n",
    "trade_news_predict_prices.quasi_logger = pd.DataFrame(data = [], columns=[\n",
    "    'ric_i', 'ric_now', 'headlines_slice_i', 'headlines_number',\n",
    "    'up_to_date_ric', 'story_i', 'story_id_now', 'story_is_success', \n",
    "    'date_time',\n",
    "])"
   ]
  },
  {
   "cell_type": "code",
   "execution_count": 16,
   "metadata": {},
   "outputs": [
    {
     "name": "stderr",
     "output_type": "stream",
     "text": [
      "c:\\python37\\lib\\site-packages\\IPython\\core\\interactiveshell.py:3146: DtypeWarning: Columns (0,7) have mixed types.Specify dtype option on import or set low_memory=False.\n",
      "  interactivity=interactivity, compiler=compiler, result=result)\n"
     ]
    },
    {
     "name": "stdout",
     "output_type": "stream",
     "text": [
      "(368542, 11) data/logger/quasi_logger_2021-03-13_v8.csv\n"
     ]
    }
   ],
   "source": [
    "# Read the existing logger df instead of creating new empty one.\n",
    "from trade_news_predict_prices import get_name_of_latest_file_in_folder \n",
    "latest_file = get_name_of_latest_file_in_folder(general_constants.loc['folder_name_logger'][0])\n",
    "trade_news_predict_prices.quasi_logger = pd.read_csv(latest_file, sep=';')\n",
    "trade_news_predict_prices.quasi_logger['date_time'] = pd.to_datetime(trade_news_predict_prices.quasi_logger['date_time'])\n",
    "print(trade_news_predict_prices.quasi_logger.shape, latest_file)"
   ]
  },
  {
   "cell_type": "markdown",
   "metadata": {},
   "source": [
    "# Gather news to all_headlines_df for new rics"
   ]
  },
  {
   "cell_type": "code",
   "execution_count": 34,
   "metadata": {},
   "outputs": [
    {
     "name": "stdout",
     "output_type": "stream",
     "text": [
      "0 FBC.N\n",
      "\n",
      "is_this_ric_in_all: False   up_to_date_ric: None got successfully news_get_df.shape: 100\n",
      "0; 1; 2; 3; 4; 5; 6; 7; 8; 9; 10; 11; 12; 13; 14; 15; 16; 17; 18; 19; 20; 21; 22; 23; 24; 25; 26; 27; 28; 29; 30; 31; 32; 33; 34; 35; 36; 37; 38; 39; 40; 41; 42; 43; 44; 45; 46; 47; 48; 49; 50; 51; 52; 53; 54; 55; 56; 57; 58; 59; 60; 61; 62; 63; 64; 65; 66; 67; 68; 69; 70; 71; 72; 73; 74; 75; 76; 77; 78; 79; 80; 81; 82; 83; 84; 85; 86; 87; 88; 89; 90; 91; 92; 93; 94; 95; 96; 97; 98; 99; \n",
      "2021-06-21 14:38:03.320974 FBC.N  ric_i: 0  headline_slice_i: 1  headline_number: 100  not null: 100 None\n",
      "(100, 6)\n",
      "\n",
      "is_this_ric_in_all: True   up_to_date_ric: 2021-04-26 12:09:56.469000+00:00 got successfully news_get_df.shape: 100\n",
      "0; 1; 2; 3; 4; 5; 6; 7; 8; 9; 10; 11; 12; 13; 14; 15; 16; 17; 18; 19; 20; 21; 22; 23; 24; 25; 26; 27; 28; 29; 30; 31; 32; 33; 34; 35; 36; 37; 38; 39; 40; 41; 42; 43; 44; 45; 46; 47; 48; 49; 50; 51; 52; 53; 54; 55; 56; 57; 58; 59; 60; 61; 62; 63; 64; 65; 66; 67; 68; 69; 70; 71; 72; 73; 74; 75; 76; 77; 78; 79; 80; 81; 82; 83; 84; 85; 86; 87; 88; 89; 90; 91; 92; 93; 94; 95; 96; 97; 98; 99; \n",
      "2021-06-21 14:39:34.900813 FBC.N  ric_i: 0  headline_slice_i: 2  headline_number: 100  not null: 100 2021-04-26 12:09:56.469000+00:00\n",
      "(200, 6)\n",
      "\n",
      "is_this_ric_in_all: True   up_to_date_ric: 2021-01-21 11:33:36.533000+00:00 got successfully news_get_df.shape: 100\n",
      "0; 1; 2; 3; 4; 5; 6; 7; 8; 9; 10; 11; 12; 13; 14; 15; 16; 17; 18; 19; 20; 21; 22; 23; 24; 25; 26; 27; 28; 29; 30; 31; 32; 33; 34; 35; 36; 37; 38; 39; 40; 41; 42; 43; 44; 45; 46; 47; 48; 49; 50; 51; 52; 53; 54; 55; 56; 57; 58; 59; 60; 61; 62; 63; 64; 65; 66; 67; 68; 69; 70; 71; 72; 73; 74; 75; 76; 77; 78; 79; 80; 81; 82; 83; 84; 85; 86; 87; 88; 89; 90; 91; 92; 93; 94; 95; 96; 97; 98; 99; \n",
      "2021-06-21 14:40:50.087065 FBC.N  ric_i: 0  headline_slice_i: 3  headline_number: 100  not null: 100 2021-01-21 11:33:36.533000+00:00\n",
      "(300, 6)\n",
      "\n",
      "is_this_ric_in_all: True   up_to_date_ric: 2020-10-22 18:53:37.608000+00:00 got successfully news_get_df.shape: 100\n",
      "0; 1; 2; 3; 4; 5; 6; 7; 8; 9; 10; 11; 12; 13; 14; 15; 16; 17; 18; 19; 20; 21; 22; 23; 24; 25; 26; 27; 28; 29; 30; 31; 32; 33; 34; 35; 36; 37; 38; 39; 40; 41; 42; 43; 44; 45; 46; 47; 48; 49; 50; 51; 52; 53; 54; 55; 56; 57; 58; 59; 60; 61; 62; 63; 64; 65; 66; 67; 68; 69; 70; 71; 72; 73; 74; 75; 76; 77; 78; 79; 80; 81; 82; 83; 84; 85; 86; 87; 88; 89; 90; 91; 92; 93; 94; 95; 96; 97; 98; 99; \n",
      "2021-06-21 14:42:04.174719 FBC.N  ric_i: 0  headline_slice_i: 4  headline_number: 100  not null: 100 2020-10-22 18:53:37.608000+00:00\n",
      "(400, 6)\n",
      "\n",
      "is_this_ric_in_all: True   up_to_date_ric: 2020-07-28 10:30:11.205000+00:00 \n",
      "Error when trying to get news headlines 0\n",
      "'headlines'\n",
      "got successfully news_get_df.shape: 84\n",
      "0; 1; 2; 3; 4; 5; 6; 7; 8; 9; 10; 11; 12; 13; 14; 15; 16; 17; 18; 19; 20; 21; 22; 23; 24; 25; 26; 27; 28; 29; 30; 31; 32; 33; 34; 35; 36; 37; 38; 39; 40; 41; 42; 43; 44; 45; 46; 47; 48; 49; 50; 51; 52; 53; 54; 55; 56; 57; 58; 59; 60; 61; 62; 63; 64; 65; 66; 67; 68; 69; 70; 71; 72; 73; 74; 75; 76; 77; 78; 79; 80; 81; 82; 83; \n",
      "2021-06-21 14:43:21.887063 FBC.N  ric_i: 0  headline_slice_i: 5  headline_number: 84  not null: 84 2020-07-28 10:30:11.205000+00:00\n",
      "(484, 6)\n",
      "data/logger/quasi_logger_2021-06-21_v1.csv\n",
      "1 GSIE.P\n",
      "\n",
      "is_this_ric_in_all: False   up_to_date_ric: None got successfully news_get_df.shape: 0\n",
      "\n",
      "2021-06-21 14:43:22.314903 GSIE.P  ric_i: 1  headline_slice_i: 1  headline_number: 0  not null: 0 None\n",
      "(484, 6)\n",
      "data/logger/quasi_logger_2021-06-21_v2.csv\n",
      "2 HYLS.OQ\n",
      "\n",
      "is_this_ric_in_all: False   up_to_date_ric: None got successfully news_get_df.shape: 15\n",
      "0; 1; 2; 3; 4; 5; 6; 7; 8; 9; 10; 11; 12; 13; 14; \n",
      "2021-06-21 14:43:34.325792 HYLS.OQ  ric_i: 2  headline_slice_i: 1  headline_number: 15  not null: 15 None\n",
      "(499, 6)\n",
      "data/logger/quasi_logger_2021-06-21_v3.csv\n",
      "3 STRA.OQ\n",
      "\n",
      "is_this_ric_in_all: False   up_to_date_ric: None got successfully news_get_df.shape: 100\n",
      "0; 1; 2; 3; 4; 5; 6; 7; 8; 9; 10; 11; 12; 13; 14; 15; 16; 17; 18; 19; 20; 21; 22; 23; 24; 25; 26; 27; 28; 29; 30; 31; 32; 33; 34; 35; 36; 37; 38; 39; 40; 41; 42; 43; 44; 45; 46; 47; 48; 49; 50; 51; 52; 53; 54; 55; 56; 57; 58; 59; 60; 61; 62; 63; 64; 65; 66; 67; 68; 69; 70; 71; 72; 73; 74; 75; 76; 77; 78; 79; 80; 81; 82; 83; 84; 85; 86; 87; 88; 89; 90; 91; 92; 93; 94; 95; 96; 97; 98; 99; \n",
      "2021-06-21 14:44:43.777020 STRA.OQ  ric_i: 3  headline_slice_i: 1  headline_number: 100  not null: 100 None\n",
      "(599, 6)\n",
      "\n",
      "is_this_ric_in_all: True   up_to_date_ric: 2021-02-16 16:21:49.637000+00:00 got successfully news_get_df.shape: 100\n",
      "0; 1; 2; 3; 4; 5; 6; 7; 8; 9; 10; 11; 12; 13; 14; 15; 16; 17; 18; 19; 20; 21; 22; 23; 24; 25; 26; 27; 28; 29; 30; 31; 32; 33; 34; 35; 36; 37; 38; 39; 40; 41; 42; 43; 44; 45; 46; 47; 48; 49; 50; 51; 52; 53; 54; 55; 56; 57; 58; 59; 60; 61; 62; 63; 64; 65; 66; 67; 68; 69; 70; 71; 72; 73; 74; 75; 76; 77; 78; 79; 80; 81; 82; 83; 84; 85; 86; 87; 88; 89; 90; 91; 92; 93; 94; 95; 96; 97; 98; 99; \n",
      "2021-06-21 14:45:55.810486 STRA.OQ  ric_i: 3  headline_slice_i: 2  headline_number: 100  not null: 100 2021-02-16 16:21:49.637000+00:00\n",
      "(699, 6)\n",
      "\n",
      "is_this_ric_in_all: True   up_to_date_ric: 2020-07-29 12:00:37.284000+00:00 got successfully news_get_df.shape: 77\n",
      "0; 1; 2; 3; 4; 5; 6; 7; 8; 9; 10; 11; 12; 13; 14; 15; 16; 17; 18; 19; 20; 21; 22; 23; 24; 25; 26; 27; 28; 29; 30; 31; 32; 33; 34; 35; 36; 37; 38; 39; 40; 41; 42; 43; 44; 45; 46; 47; 48; 49; 50; 51; 52; 53; 54; 55; 56; 57; 58; 59; 60; 61; 62; 63; 64; 65; 66; 67; 68; 69; 70; 71; 72; 73; 74; 75; 76; \n",
      "2021-06-21 14:46:57.253407 STRA.OQ  ric_i: 3  headline_slice_i: 3  headline_number: 77  not null: 77 2020-07-29 12:00:37.284000+00:00\n",
      "(776, 6)\n",
      "data/logger/quasi_logger_2021-06-21_v4.csv\n",
      "4 JACK.OQ\n",
      "\n",
      "is_this_ric_in_all: False   up_to_date_ric: None got successfully news_get_df.shape: 100\n",
      "0; 1; 2; 3; 4; 5; 6; 7; 8; 9; 10; 11; 12; 13; 14; 15; 16; 17; 18; 19; 20; 21; 22; 23; 24; 25; 26; 27; 28; 29; 30; 31; 32; 33; 34; 35; 36; 37; 38; 39; 40; 41; 42; 43; 44; 45; 46; 47; 48; 49; 50; 51; 52; 53; 54; 55; 56; 57; 58; 59; 60; 61; 62; 63; 64; 65; 66; 67; 68; 69; 70; 71; 72; 73; 74; 75; 76; 77; 78; 79; 80; 81; 82; 83; 84; 85; 86; 87; 88; 89; 90; 91; 92; 93; 94; 95; 96; 97; 98; 99; \n",
      "2021-06-21 14:48:20.908964 JACK.OQ  ric_i: 4  headline_slice_i: 1  headline_number: 100  not null: 100 None\n",
      "(876, 6)\n",
      "\n",
      "is_this_ric_in_all: True   up_to_date_ric: 2021-03-02 23:03:11.568000+00:00 got successfully news_get_df.shape: 100\n",
      "0; 1; 2; 3; 4; 5; 6; 7; 8; 9; 10; 11; 12; 13; 14; 15; 16; 17; 18; 19; 20; 21; 22; 23; 24; 25; 26; 27; 28; 29; 30; 31; 32; 33; 34; 35; 36; 37; 38; 39; 40; 41; 42; 43; 44; 45; 46; 47; 48; 49; 50; 51; 52; 53; 54; 55; 56; 57; 58; 59; 60; 61; 62; 63; 64; 65; 66; 67; 68; 69; 70; 71; 72; 73; 74; 75; 76; 77; 78; 79; 80; 81; 82; 83; 84; 85; 86; 87; 88; 89; 90; 91; 92; 93; 94; 95; 96; 97; 98; 99; \n",
      "2021-06-21 14:49:52.786087 JACK.OQ  ric_i: 4  headline_slice_i: 2  headline_number: 100  not null: 100 2021-03-02 23:03:11.568000+00:00\n",
      "(976, 6)\n",
      "\n",
      "is_this_ric_in_all: True   up_to_date_ric: 2020-11-24 23:34:00.155000+00:00 got successfully news_get_df.shape: 100\n",
      "0; 1; 2; 3; 4; 5; 6; 7; 8; 9; 10; 11; 12; 13; 14; 15; 16; 17; 18; 19; 20; 21; 22; 23; 24; 25; 26; 27; 28; 29; 30; 31; 32; 33; 34; 35; 36; 37; 38; 39; 40; 41; 42; 43; 44; 45; 46; 47; 48; 49; 50; 51; 52; 53; 54; 55; 56; 57; 58; 59; 60; 61; 62; 63; 64; 65; 66; 67; 68; 69; 70; 71; 72; 73; 74; 75; 76; 77; 78; 79; 80; 81; 82; 83; 84; 85; 86; 87; 88; 89; \n",
      "STORY IS OK: False   ric_now: JACK.OQ   ric_i: 4   story_i: 90\n",
      "'NoneType' object has no attribute 'replace'\n",
      "91; 92; 93; 94; 95; 96; 97; 98; 99; \n",
      "2021-06-21 14:52:10.554438 JACK.OQ  ric_i: 4  headline_slice_i: 3  headline_number: 100  not null: 100 2020-11-24 23:34:00.155000+00:00\n",
      "(1076, 6)\n",
      "\n",
      "is_this_ric_in_all: True   up_to_date_ric: 2020-07-30 20:10:14.175000+00:00 got successfully news_get_df.shape: 100\n",
      "0; 1; 2; 3; 4; 5; 6; 7; 8; 9; 10; 11; 12; 13; 14; 15; 16; 17; 18; 19; 20; 21; 22; 23; 24; 25; 26; 27; 28; 29; 30; 31; 32; 33; 34; 35; 36; 37; 38; 39; 40; 41; 42; 43; 44; 45; 46; 47; 48; 49; 50; 51; 52; 53; 54; 55; 56; 57; 58; 59; 60; 61; 62; 63; 64; 65; 66; 67; 68; 69; 70; 71; 72; 73; 74; 75; 76; 77; 78; 79; 80; 81; 82; 83; 84; 85; 86; 87; 88; 89; 90; 91; 92; 93; 94; 95; 96; 97; 98; 99; \n",
      "2021-06-21 14:54:25.234508 JACK.OQ  ric_i: 4  headline_slice_i: 4  headline_number: 100  not null: 100 2020-07-30 20:10:14.175000+00:00\n",
      "(1176, 6)\n",
      "\n",
      "is_this_ric_in_all: True   up_to_date_ric: 2020-04-15 21:14:27+00:00 got successfully news_get_df.shape: 29\n",
      "0; 1; 2; 3; 4; 5; 6; 7; 8; 9; 10; 11; 12; 13; 14; 15; 16; 17; 18; 19; 20; 21; 22; 23; 24; 25; 26; 27; 28; \n",
      "2021-06-21 14:55:18.296052 JACK.OQ  ric_i: 4  headline_slice_i: 5  headline_number: 29  not null: 29 2020-04-15 21:14:27+00:00\n",
      "(1205, 6)\n",
      "data/logger/quasi_logger_2021-06-21_v5.csv\n",
      "5 PRPL.OQ\n",
      "\n",
      "is_this_ric_in_all: False   up_to_date_ric: None got successfully news_get_df.shape: 100\n",
      "0; 1; 2; 3; 4; 5; 6; 7; 8; 9; 10; 11; 12; "
     ]
    },
    {
     "ename": "KeyboardInterrupt",
     "evalue": "",
     "output_type": "error",
     "traceback": [
      "\u001b[1;31m---------------------------------------------------------------------------\u001b[0m",
      "\u001b[1;31mKeyboardInterrupt\u001b[0m                         Traceback (most recent call last)",
      "\u001b[1;32m<ipython-input-34-9bd8fdf2228c>\u001b[0m in \u001b[0;36m<module>\u001b[1;34m\u001b[0m\n\u001b[0;32m     11\u001b[0m     \u001b[0msave_all_headlines_df\u001b[0m\u001b[1;33m=\u001b[0m\u001b[1;32mFalse\u001b[0m\u001b[1;33m,\u001b[0m\u001b[1;33m\u001b[0m\u001b[1;33m\u001b[0m\u001b[0m\n\u001b[0;32m     12\u001b[0m     \u001b[0mfolder_name_to_save_all_headlines_df\u001b[0m\u001b[1;33m=\u001b[0m\u001b[0mgeneral_constants\u001b[0m\u001b[1;33m.\u001b[0m\u001b[0mloc\u001b[0m\u001b[1;33m[\u001b[0m\u001b[1;34m'folder_name_headlines'\u001b[0m\u001b[1;33m]\u001b[0m\u001b[1;33m[\u001b[0m\u001b[1;36m0\u001b[0m\u001b[1;33m]\u001b[0m\u001b[1;33m,\u001b[0m\u001b[1;33m\u001b[0m\u001b[1;33m\u001b[0m\u001b[0m\n\u001b[1;32m---> 13\u001b[1;33m     \u001b[0mfolder_name_to_save_save_logger\u001b[0m\u001b[1;33m=\u001b[0m\u001b[0mgeneral_constants\u001b[0m\u001b[1;33m.\u001b[0m\u001b[0mloc\u001b[0m\u001b[1;33m[\u001b[0m\u001b[1;34m'folder_name_logger'\u001b[0m\u001b[1;33m]\u001b[0m\u001b[1;33m[\u001b[0m\u001b[1;36m0\u001b[0m\u001b[1;33m]\u001b[0m\u001b[1;33m,\u001b[0m\u001b[1;33m\u001b[0m\u001b[1;33m\u001b[0m\u001b[0m\n\u001b[0m\u001b[0;32m     14\u001b[0m )\n",
      "\u001b[1;32mC:\\DAN\\t_systems\\trade_news\\trade_news_predict_prices.py\u001b[0m in \u001b[0;36mget_headlines_and_full_text_news_save\u001b[1;34m(rics_to_loop_df, column_name_with_rics, column_name_with_dates, col_name_with_story_id, headlines_count_to_request, max_num_tries, dont_collect_such_old_news, save_logger, save_all_headlines_df, folder_name_to_save_all_headlines_df, folder_name_to_save_save_logger)\u001b[0m\n\u001b[0;32m    308\u001b[0m                 \u001b[0mheadlines_number\u001b[0m\u001b[1;33m,\u001b[0m\u001b[1;33m\u001b[0m\u001b[1;33m\u001b[0m\u001b[0m\n\u001b[0;32m    309\u001b[0m                 \u001b[0mup_to_date_ric\u001b[0m\u001b[1;33m,\u001b[0m\u001b[1;33m\u001b[0m\u001b[1;33m\u001b[0m\u001b[0m\n\u001b[1;32m--> 310\u001b[1;33m                 col_name_with_story_id=col_name_with_story_id)\n\u001b[0m\u001b[0;32m    311\u001b[0m \u001b[1;33m\u001b[0m\u001b[0m\n\u001b[0;32m    312\u001b[0m             \u001b[1;31m# If at that moment news_get_df has less than 100 news,\u001b[0m\u001b[1;33m\u001b[0m\u001b[1;33m\u001b[0m\u001b[1;33m\u001b[0m\u001b[0m\n",
      "\u001b[1;32mC:\\DAN\\t_systems\\trade_news\\trade_news_predict_prices.py\u001b[0m in \u001b[0;36madding_news_stories_to_df_with_headlines\u001b[1;34m(news_get_df, quasi_logger, ric_i, ric_now, headlines_slice_i, headlines_number, up_to_date_ric, col_name_with_story_id)\u001b[0m\n\u001b[0;32m    157\u001b[0m \u001b[1;33m\u001b[0m\u001b[0m\n\u001b[0;32m    158\u001b[0m         \u001b[1;32mtry\u001b[0m\u001b[1;33m:\u001b[0m\u001b[1;33m\u001b[0m\u001b[1;33m\u001b[0m\u001b[0m\n\u001b[1;32m--> 159\u001b[1;33m             \u001b[0mstory_now\u001b[0m \u001b[1;33m=\u001b[0m \u001b[0mek\u001b[0m\u001b[1;33m.\u001b[0m\u001b[0mget_news_story\u001b[0m\u001b[1;33m(\u001b[0m\u001b[0mstory_id_now\u001b[0m\u001b[1;33m)\u001b[0m\u001b[1;33m\u001b[0m\u001b[1;33m\u001b[0m\u001b[0m\n\u001b[0m\u001b[0;32m    160\u001b[0m             \u001b[1;31m# Удалим из истории все тильды на всякий случай, будет sep='~'\u001b[0m\u001b[1;33m\u001b[0m\u001b[1;33m\u001b[0m\u001b[1;33m\u001b[0m\u001b[0m\n\u001b[0;32m    161\u001b[0m             \u001b[0mstory_now\u001b[0m \u001b[1;33m=\u001b[0m \u001b[0mstory_now\u001b[0m\u001b[1;33m.\u001b[0m\u001b[0mreplace\u001b[0m\u001b[1;33m(\u001b[0m\u001b[1;34m\"~\"\u001b[0m\u001b[1;33m,\u001b[0m \u001b[1;34m\"!tilda!\"\u001b[0m\u001b[1;33m)\u001b[0m\u001b[1;33m\u001b[0m\u001b[1;33m\u001b[0m\u001b[0m\n",
      "\u001b[1;32mc:\\python37\\lib\\site-packages\\eikon\\news_request.py\u001b[0m in \u001b[0;36mget_news_story\u001b[1;34m(story_id, raw_output, debug)\u001b[0m\n\u001b[0;32m    189\u001b[0m     \u001b[0mapp_key\u001b[0m \u001b[1;33m=\u001b[0m \u001b[0meikon\u001b[0m\u001b[1;33m.\u001b[0m\u001b[0mget_app_key\u001b[0m\u001b[1;33m(\u001b[0m\u001b[1;33m)\u001b[0m\u001b[1;33m\u001b[0m\u001b[1;33m\u001b[0m\u001b[0m\n\u001b[0;32m    190\u001b[0m     \u001b[0mpayload\u001b[0m \u001b[1;33m=\u001b[0m \u001b[1;33m{\u001b[0m\u001b[1;34m'attributionCode'\u001b[0m\u001b[1;33m:\u001b[0m \u001b[1;34m''\u001b[0m\u001b[1;33m,\u001b[0m \u001b[1;34m'productName'\u001b[0m\u001b[1;33m:\u001b[0m \u001b[0mapp_key\u001b[0m\u001b[1;33m,\u001b[0m \u001b[1;34m'silent'\u001b[0m\u001b[1;33m:\u001b[0m \u001b[1;32mTrue\u001b[0m\u001b[1;33m,\u001b[0m \u001b[1;34m'storyId'\u001b[0m\u001b[1;33m:\u001b[0m \u001b[0mstory_id\u001b[0m\u001b[1;33m}\u001b[0m\u001b[1;33m\u001b[0m\u001b[1;33m\u001b[0m\u001b[0m\n\u001b[1;32m--> 191\u001b[1;33m     \u001b[0mjson_data\u001b[0m \u001b[1;33m=\u001b[0m \u001b[0meikon\u001b[0m\u001b[1;33m.\u001b[0m\u001b[0mjson_requests\u001b[0m\u001b[1;33m.\u001b[0m\u001b[0msend_json_request\u001b[0m\u001b[1;33m(\u001b[0m\u001b[0mNews_Story_UDF_endpoint\u001b[0m\u001b[1;33m,\u001b[0m \u001b[0mpayload\u001b[0m\u001b[1;33m,\u001b[0m \u001b[0mdebug\u001b[0m\u001b[1;33m=\u001b[0m\u001b[0mdebug\u001b[0m\u001b[1;33m)\u001b[0m\u001b[1;33m\u001b[0m\u001b[1;33m\u001b[0m\u001b[0m\n\u001b[0m\u001b[0;32m    192\u001b[0m \u001b[1;33m\u001b[0m\u001b[0m\n\u001b[0;32m    193\u001b[0m     \u001b[1;32mif\u001b[0m \u001b[0mraw_output\u001b[0m\u001b[1;33m:\u001b[0m\u001b[1;33m\u001b[0m\u001b[1;33m\u001b[0m\u001b[0m\n",
      "\u001b[1;32mc:\\python37\\lib\\site-packages\\eikon\\json_requests.py\u001b[0m in \u001b[0;36msend_json_request\u001b[1;34m(entity, payload, debug)\u001b[0m\n\u001b[0;32m     91\u001b[0m                                                              headers={'Content-Type': 'application/json',\n\u001b[0;32m     92\u001b[0m                                                                       'x-tr-applicationid': profile.get_app_key()},\n\u001b[1;32m---> 93\u001b[1;33m                                                              json=udf_request)\n\u001b[0m\u001b[0;32m     94\u001b[0m             \u001b[1;32mtry\u001b[0m\u001b[1;33m:\u001b[0m\u001b[1;33m\u001b[0m\u001b[1;33m\u001b[0m\u001b[0m\n\u001b[0;32m     95\u001b[0m                 \u001b[0mlogger\u001b[0m\u001b[1;33m.\u001b[0m\u001b[0mdebug\u001b[0m\u001b[1;33m(\u001b[0m\u001b[1;34m'HTTP Response code: {}'\u001b[0m\u001b[1;33m.\u001b[0m\u001b[0mformat\u001b[0m\u001b[1;33m(\u001b[0m\u001b[0mresponse\u001b[0m\u001b[1;33m.\u001b[0m\u001b[0mstatus_code\u001b[0m\u001b[1;33m)\u001b[0m\u001b[1;33m)\u001b[0m\u001b[1;33m\u001b[0m\u001b[1;33m\u001b[0m\u001b[0m\n",
      "\u001b[1;32mc:\\python37\\lib\\site-packages\\eikon\\streaming_session\\session.py\u001b[0m in \u001b[0;36mhttp_request\u001b[1;34m(self, url, method, headers, data, params, json, auth, loop, **kwargs)\u001b[0m\n\u001b[0;32m    653\u001b[0m             \u001b[0mloop\u001b[0m \u001b[1;33m=\u001b[0m \u001b[0mself\u001b[0m\u001b[1;33m.\u001b[0m\u001b[0m_loop\u001b[0m\u001b[1;33m\u001b[0m\u001b[1;33m\u001b[0m\u001b[0m\n\u001b[0;32m    654\u001b[0m         response = loop.run_until_complete(self.http_request_async(url, method, headers, data,\n\u001b[1;32m--> 655\u001b[1;33m                                                                    params, json, auth, **kwargs))\n\u001b[0m\u001b[0;32m    656\u001b[0m         \u001b[1;32mreturn\u001b[0m \u001b[0mresponse\u001b[0m\u001b[1;33m\u001b[0m\u001b[1;33m\u001b[0m\u001b[0m\n",
      "\u001b[1;32mc:\\python37\\lib\\site-packages\\nest_asyncio.py\u001b[0m in \u001b[0;36mrun_until_complete\u001b[1;34m(self, future)\u001b[0m\n\u001b[0;32m     52\u001b[0m             \u001b[0mf\u001b[0m\u001b[1;33m.\u001b[0m\u001b[0m_log_destroy_pending\u001b[0m \u001b[1;33m=\u001b[0m \u001b[1;32mFalse\u001b[0m\u001b[1;33m\u001b[0m\u001b[1;33m\u001b[0m\u001b[0m\n\u001b[0;32m     53\u001b[0m         \u001b[1;32mwhile\u001b[0m \u001b[1;32mnot\u001b[0m \u001b[0mf\u001b[0m\u001b[1;33m.\u001b[0m\u001b[0mdone\u001b[0m\u001b[1;33m(\u001b[0m\u001b[1;33m)\u001b[0m\u001b[1;33m:\u001b[0m\u001b[1;33m\u001b[0m\u001b[1;33m\u001b[0m\u001b[0m\n\u001b[1;32m---> 54\u001b[1;33m             \u001b[0mself\u001b[0m\u001b[1;33m.\u001b[0m\u001b[0m_run_once\u001b[0m\u001b[1;33m(\u001b[0m\u001b[1;33m)\u001b[0m\u001b[1;33m\u001b[0m\u001b[1;33m\u001b[0m\u001b[0m\n\u001b[0m\u001b[0;32m     55\u001b[0m             \u001b[1;32mif\u001b[0m \u001b[0mself\u001b[0m\u001b[1;33m.\u001b[0m\u001b[0m_stopping\u001b[0m\u001b[1;33m:\u001b[0m\u001b[1;33m\u001b[0m\u001b[1;33m\u001b[0m\u001b[0m\n\u001b[0;32m     56\u001b[0m                 \u001b[1;32mbreak\u001b[0m\u001b[1;33m\u001b[0m\u001b[1;33m\u001b[0m\u001b[0m\n",
      "\u001b[1;32mc:\\python37\\lib\\site-packages\\nest_asyncio.py\u001b[0m in \u001b[0;36m_run_once\u001b[1;34m(self)\u001b[0m\n\u001b[0;32m     73\u001b[0m             \u001b[1;32melse\u001b[0m \u001b[0mmin\u001b[0m\u001b[1;33m(\u001b[0m\u001b[0mmax\u001b[0m\u001b[1;33m(\u001b[0m\u001b[1;36m0\u001b[0m\u001b[1;33m,\u001b[0m \u001b[0mscheduled\u001b[0m\u001b[1;33m[\u001b[0m\u001b[1;36m0\u001b[0m\u001b[1;33m]\u001b[0m\u001b[1;33m.\u001b[0m\u001b[0m_when\u001b[0m \u001b[1;33m-\u001b[0m \u001b[0mnow\u001b[0m\u001b[1;33m)\u001b[0m\u001b[1;33m,\u001b[0m \u001b[1;36m10\u001b[0m\u001b[1;33m)\u001b[0m \u001b[1;32mif\u001b[0m \u001b[0mscheduled\u001b[0m\u001b[0;31m \u001b[0m\u001b[0;31m\\\u001b[0m\u001b[1;33m\u001b[0m\u001b[1;33m\u001b[0m\u001b[0m\n\u001b[0;32m     74\u001b[0m             \u001b[1;32melse\u001b[0m \u001b[1;32mNone\u001b[0m\u001b[1;33m\u001b[0m\u001b[1;33m\u001b[0m\u001b[0m\n\u001b[1;32m---> 75\u001b[1;33m         \u001b[0mevent_list\u001b[0m \u001b[1;33m=\u001b[0m \u001b[0mself\u001b[0m\u001b[1;33m.\u001b[0m\u001b[0m_selector\u001b[0m\u001b[1;33m.\u001b[0m\u001b[0mselect\u001b[0m\u001b[1;33m(\u001b[0m\u001b[0mtimeout\u001b[0m\u001b[1;33m)\u001b[0m\u001b[1;33m\u001b[0m\u001b[1;33m\u001b[0m\u001b[0m\n\u001b[0m\u001b[0;32m     76\u001b[0m         \u001b[0mself\u001b[0m\u001b[1;33m.\u001b[0m\u001b[0m_process_events\u001b[0m\u001b[1;33m(\u001b[0m\u001b[0mevent_list\u001b[0m\u001b[1;33m)\u001b[0m\u001b[1;33m\u001b[0m\u001b[1;33m\u001b[0m\u001b[0m\n\u001b[0;32m     77\u001b[0m \u001b[1;33m\u001b[0m\u001b[0m\n",
      "\u001b[1;32mc:\\python37\\lib\\selectors.py\u001b[0m in \u001b[0;36mselect\u001b[1;34m(self, timeout)\u001b[0m\n\u001b[0;32m    321\u001b[0m         \u001b[0mready\u001b[0m \u001b[1;33m=\u001b[0m \u001b[1;33m[\u001b[0m\u001b[1;33m]\u001b[0m\u001b[1;33m\u001b[0m\u001b[1;33m\u001b[0m\u001b[0m\n\u001b[0;32m    322\u001b[0m         \u001b[1;32mtry\u001b[0m\u001b[1;33m:\u001b[0m\u001b[1;33m\u001b[0m\u001b[1;33m\u001b[0m\u001b[0m\n\u001b[1;32m--> 323\u001b[1;33m             \u001b[0mr\u001b[0m\u001b[1;33m,\u001b[0m \u001b[0mw\u001b[0m\u001b[1;33m,\u001b[0m \u001b[0m_\u001b[0m \u001b[1;33m=\u001b[0m \u001b[0mself\u001b[0m\u001b[1;33m.\u001b[0m\u001b[0m_select\u001b[0m\u001b[1;33m(\u001b[0m\u001b[0mself\u001b[0m\u001b[1;33m.\u001b[0m\u001b[0m_readers\u001b[0m\u001b[1;33m,\u001b[0m \u001b[0mself\u001b[0m\u001b[1;33m.\u001b[0m\u001b[0m_writers\u001b[0m\u001b[1;33m,\u001b[0m \u001b[1;33m[\u001b[0m\u001b[1;33m]\u001b[0m\u001b[1;33m,\u001b[0m \u001b[0mtimeout\u001b[0m\u001b[1;33m)\u001b[0m\u001b[1;33m\u001b[0m\u001b[1;33m\u001b[0m\u001b[0m\n\u001b[0m\u001b[0;32m    324\u001b[0m         \u001b[1;32mexcept\u001b[0m \u001b[0mInterruptedError\u001b[0m\u001b[1;33m:\u001b[0m\u001b[1;33m\u001b[0m\u001b[1;33m\u001b[0m\u001b[0m\n\u001b[0;32m    325\u001b[0m             \u001b[1;32mreturn\u001b[0m \u001b[0mready\u001b[0m\u001b[1;33m\u001b[0m\u001b[1;33m\u001b[0m\u001b[0m\n",
      "\u001b[1;32mc:\\python37\\lib\\selectors.py\u001b[0m in \u001b[0;36m_select\u001b[1;34m(self, r, w, _, timeout)\u001b[0m\n\u001b[0;32m    312\u001b[0m     \u001b[1;32mif\u001b[0m \u001b[0msys\u001b[0m\u001b[1;33m.\u001b[0m\u001b[0mplatform\u001b[0m \u001b[1;33m==\u001b[0m \u001b[1;34m'win32'\u001b[0m\u001b[1;33m:\u001b[0m\u001b[1;33m\u001b[0m\u001b[1;33m\u001b[0m\u001b[0m\n\u001b[0;32m    313\u001b[0m         \u001b[1;32mdef\u001b[0m \u001b[0m_select\u001b[0m\u001b[1;33m(\u001b[0m\u001b[0mself\u001b[0m\u001b[1;33m,\u001b[0m \u001b[0mr\u001b[0m\u001b[1;33m,\u001b[0m \u001b[0mw\u001b[0m\u001b[1;33m,\u001b[0m \u001b[0m_\u001b[0m\u001b[1;33m,\u001b[0m \u001b[0mtimeout\u001b[0m\u001b[1;33m=\u001b[0m\u001b[1;32mNone\u001b[0m\u001b[1;33m)\u001b[0m\u001b[1;33m:\u001b[0m\u001b[1;33m\u001b[0m\u001b[1;33m\u001b[0m\u001b[0m\n\u001b[1;32m--> 314\u001b[1;33m             \u001b[0mr\u001b[0m\u001b[1;33m,\u001b[0m \u001b[0mw\u001b[0m\u001b[1;33m,\u001b[0m \u001b[0mx\u001b[0m \u001b[1;33m=\u001b[0m \u001b[0mselect\u001b[0m\u001b[1;33m.\u001b[0m\u001b[0mselect\u001b[0m\u001b[1;33m(\u001b[0m\u001b[0mr\u001b[0m\u001b[1;33m,\u001b[0m \u001b[0mw\u001b[0m\u001b[1;33m,\u001b[0m \u001b[0mw\u001b[0m\u001b[1;33m,\u001b[0m \u001b[0mtimeout\u001b[0m\u001b[1;33m)\u001b[0m\u001b[1;33m\u001b[0m\u001b[1;33m\u001b[0m\u001b[0m\n\u001b[0m\u001b[0;32m    315\u001b[0m             \u001b[1;32mreturn\u001b[0m \u001b[0mr\u001b[0m\u001b[1;33m,\u001b[0m \u001b[0mw\u001b[0m \u001b[1;33m+\u001b[0m \u001b[0mx\u001b[0m\u001b[1;33m,\u001b[0m \u001b[1;33m[\u001b[0m\u001b[1;33m]\u001b[0m\u001b[1;33m\u001b[0m\u001b[1;33m\u001b[0m\u001b[0m\n\u001b[0;32m    316\u001b[0m     \u001b[1;32melse\u001b[0m\u001b[1;33m:\u001b[0m\u001b[1;33m\u001b[0m\u001b[1;33m\u001b[0m\u001b[0m\n",
      "\u001b[1;31mKeyboardInterrupt\u001b[0m: "
     ]
    }
   ],
   "source": [
    "from trade_news_predict_prices import get_headlines_and_full_text_news_save \n",
    "get_headlines_and_full_text_news_save(\n",
    "    rics_to_loop_df=rics_usa_df[2000:], # rics_dax, rics_usa_df\n",
    "    column_name_with_rics='ric',\n",
    "    column_name_with_dates='versionCreated',\n",
    "    col_name_with_story_id = 'storyId',\n",
    "    headlines_count_to_request=100,\n",
    "    max_num_tries=5,\n",
    "    dont_collect_such_old_news='2010-01-01',\n",
    "    save_logger=True,\n",
    "    save_all_headlines_df=False,\n",
    "    folder_name_to_save_all_headlines_df=general_constants.loc['folder_name_headlines'][0],\n",
    "    folder_name_to_save_save_logger=general_constants.loc['folder_name_logger'][0],\n",
    ")"
   ]
  },
  {
   "cell_type": "markdown",
   "metadata": {},
   "source": [
    "# What was gathered?"
   ]
  },
  {
   "cell_type": "code",
   "execution_count": 35,
   "metadata": {},
   "outputs": [
    {
     "data": {
      "text/html": [
       "<div>\n",
       "<style scoped>\n",
       "    .dataframe tbody tr th:only-of-type {\n",
       "        vertical-align: middle;\n",
       "    }\n",
       "\n",
       "    .dataframe tbody tr th {\n",
       "        vertical-align: top;\n",
       "    }\n",
       "\n",
       "    .dataframe thead th {\n",
       "        text-align: right;\n",
       "    }\n",
       "</style>\n",
       "<table border=\"1\" class=\"dataframe\">\n",
       "  <thead>\n",
       "    <tr style=\"text-align: right;\">\n",
       "      <th></th>\n",
       "      <th>ric</th>\n",
       "      <th>versionCreated</th>\n",
       "      <th>headline</th>\n",
       "      <th>storyId</th>\n",
       "      <th>sourceCode</th>\n",
       "      <th>story</th>\n",
       "    </tr>\n",
       "  </thead>\n",
       "  <tbody>\n",
       "    <tr>\n",
       "      <th>1203</th>\n",
       "      <td>JACK.OQ</td>\n",
       "      <td>2020-03-24 20:13:06.561000+00:00</td>\n",
       "      <td>JACK IN THE BOX INC - CO PROVIDED NOTICE THAT ...</td>\n",
       "      <td>urn:newsml:reuters.com:20200324:nFWN2BH1F2:1</td>\n",
       "      <td>NS:RTRS</td>\n",
       "      <td>&lt;div class=\"storyContent\" lang=\"en\"&gt;&lt;style typ...</td>\n",
       "    </tr>\n",
       "    <tr>\n",
       "      <th>1204</th>\n",
       "      <td>JACK.OQ</td>\n",
       "      <td>2020-03-24 20:11:53.471000+00:00</td>\n",
       "      <td>JACK IN THE BOX INC /NEW/ Files -- 8-K</td>\n",
       "      <td>urn:newsml:reuters.com:20200324:nEOL4YGDmg:1</td>\n",
       "      <td>NS:EDG</td>\n",
       "      <td>&lt;div class=\"storyContent\" lang=\"en\"&gt;&lt;p&gt;&lt;a href...</td>\n",
       "    </tr>\n",
       "  </tbody>\n",
       "</table>\n",
       "</div>"
      ],
      "text/plain": [
       "          ric                   versionCreated  \\\n",
       "1203  JACK.OQ 2020-03-24 20:13:06.561000+00:00   \n",
       "1204  JACK.OQ 2020-03-24 20:11:53.471000+00:00   \n",
       "\n",
       "                                               headline  \\\n",
       "1203  JACK IN THE BOX INC - CO PROVIDED NOTICE THAT ...   \n",
       "1204             JACK IN THE BOX INC /NEW/ Files -- 8-K   \n",
       "\n",
       "                                           storyId sourceCode  \\\n",
       "1203  urn:newsml:reuters.com:20200324:nFWN2BH1F2:1    NS:RTRS   \n",
       "1204  urn:newsml:reuters.com:20200324:nEOL4YGDmg:1     NS:EDG   \n",
       "\n",
       "                                                  story  \n",
       "1203  <div class=\"storyContent\" lang=\"en\"><style typ...  \n",
       "1204  <div class=\"storyContent\" lang=\"en\"><p><a href...  "
      ]
     },
     "execution_count": 35,
     "metadata": {},
     "output_type": "execute_result"
    }
   ],
   "source": [
    "trade_news_predict_prices.all_headlines_df.tail(2)"
   ]
  },
  {
   "cell_type": "code",
   "execution_count": 36,
   "metadata": {},
   "outputs": [
    {
     "name": "stdout",
     "output_type": "stream",
     "text": [
      "1204\n",
      "1204, "
     ]
    },
    {
     "data": {
      "text/html": [
       "<div>\n",
       "<style scoped>\n",
       "    .dataframe tbody tr th:only-of-type {\n",
       "        vertical-align: middle;\n",
       "    }\n",
       "\n",
       "    .dataframe tbody tr th {\n",
       "        vertical-align: top;\n",
       "    }\n",
       "\n",
       "    .dataframe thead th {\n",
       "        text-align: right;\n",
       "    }\n",
       "</style>\n",
       "<table border=\"1\" class=\"dataframe\">\n",
       "  <thead>\n",
       "    <tr style=\"text-align: right;\">\n",
       "      <th></th>\n",
       "      <th>ric</th>\n",
       "      <th>versionCreated</th>\n",
       "      <th>headline</th>\n",
       "      <th>storyId</th>\n",
       "      <th>sourceCode</th>\n",
       "      <th>story</th>\n",
       "    </tr>\n",
       "  </thead>\n",
       "  <tbody>\n",
       "    <tr>\n",
       "      <th>1201</th>\n",
       "      <td>JACK.OQ</td>\n",
       "      <td>2020-03-24 22:23:59+00:00</td>\n",
       "      <td>BRIEF-Jack In The Box Provided Notice That It ...</td>\n",
       "      <td>urn:newsml:reuters.com:20200324:nFWN2BH1F2:1</td>\n",
       "      <td>NS:RTRS</td>\n",
       "      <td>&lt;div class=\"storyContent\" lang=\"en\"&gt;&lt;style typ...</td>\n",
       "    </tr>\n",
       "    <tr>\n",
       "      <th>1202</th>\n",
       "      <td>JACK.OQ</td>\n",
       "      <td>2020-03-24 20:13:19.890000+00:00</td>\n",
       "      <td>JACK IN THE BOX INC - SUBSTANTIALLY ALL RESTAU...</td>\n",
       "      <td>urn:newsml:reuters.com:20200324:nFWN2BH1F2:2</td>\n",
       "      <td>NS:RTRS</td>\n",
       "      <td>&lt;div class=\"storyContent\" lang=\"en\"&gt;&lt;style typ...</td>\n",
       "    </tr>\n",
       "    <tr>\n",
       "      <th>1203</th>\n",
       "      <td>JACK.OQ</td>\n",
       "      <td>2020-03-24 20:13:06.561000+00:00</td>\n",
       "      <td>JACK IN THE BOX INC - CO PROVIDED NOTICE THAT ...</td>\n",
       "      <td>urn:newsml:reuters.com:20200324:nFWN2BH1F2:1</td>\n",
       "      <td>NS:RTRS</td>\n",
       "      <td>&lt;div class=\"storyContent\" lang=\"en\"&gt;&lt;style typ...</td>\n",
       "    </tr>\n",
       "    <tr>\n",
       "      <th>1204</th>\n",
       "      <td>JACK.OQ</td>\n",
       "      <td>2020-03-24 20:11:53.471000+00:00</td>\n",
       "      <td>JACK IN THE BOX INC /NEW/ Files -- 8-K</td>\n",
       "      <td>urn:newsml:reuters.com:20200324:nEOL4YGDmg:1</td>\n",
       "      <td>NS:EDG</td>\n",
       "      <td>&lt;div class=\"storyContent\" lang=\"en\"&gt;&lt;p&gt;&lt;a href...</td>\n",
       "    </tr>\n",
       "  </tbody>\n",
       "</table>\n",
       "</div>"
      ],
      "text/plain": [
       "          ric                   versionCreated  \\\n",
       "1201  JACK.OQ        2020-03-24 22:23:59+00:00   \n",
       "1202  JACK.OQ 2020-03-24 20:13:19.890000+00:00   \n",
       "1203  JACK.OQ 2020-03-24 20:13:06.561000+00:00   \n",
       "1204  JACK.OQ 2020-03-24 20:11:53.471000+00:00   \n",
       "\n",
       "                                               headline  \\\n",
       "1201  BRIEF-Jack In The Box Provided Notice That It ...   \n",
       "1202  JACK IN THE BOX INC - SUBSTANTIALLY ALL RESTAU...   \n",
       "1203  JACK IN THE BOX INC - CO PROVIDED NOTICE THAT ...   \n",
       "1204             JACK IN THE BOX INC /NEW/ Files -- 8-K   \n",
       "\n",
       "                                           storyId sourceCode  \\\n",
       "1201  urn:newsml:reuters.com:20200324:nFWN2BH1F2:1    NS:RTRS   \n",
       "1202  urn:newsml:reuters.com:20200324:nFWN2BH1F2:2    NS:RTRS   \n",
       "1203  urn:newsml:reuters.com:20200324:nFWN2BH1F2:1    NS:RTRS   \n",
       "1204  urn:newsml:reuters.com:20200324:nEOL4YGDmg:1     NS:EDG   \n",
       "\n",
       "                                                  story  \n",
       "1201  <div class=\"storyContent\" lang=\"en\"><style typ...  \n",
       "1202  <div class=\"storyContent\" lang=\"en\"><style typ...  \n",
       "1203  <div class=\"storyContent\" lang=\"en\"><style typ...  \n",
       "1204  <div class=\"storyContent\" lang=\"en\"><p><a href...  "
      ]
     },
     "execution_count": 36,
     "metadata": {},
     "output_type": "execute_result"
    }
   ],
   "source": [
    "# Show the latest gathered news\n",
    "index_without_error = len(trade_news_predict_prices.all_headlines_df) - 1\n",
    "print(index_without_error)\n",
    "for i in range(0, 100):\n",
    "    print(index_without_error-i, end=', ')\n",
    "    if trade_news_predict_prices.all_headlines_df['story'][index_without_error-i] == 'error_when_trying_to_collect_story':\n",
    "        pass\n",
    "    else:\n",
    "        index_without_error = index_without_error - i\n",
    "        break\n",
    "\n",
    "trade_news_predict_prices.all_headlines_df[index_without_error-3:index_without_error+3]"
   ]
  },
  {
   "cell_type": "code",
   "execution_count": 37,
   "metadata": {},
   "outputs": [
    {
     "name": "stdout",
     "output_type": "stream",
     "text": [
      "1204\n"
     ]
    }
   ],
   "source": [
    "# Choose only rows with collected full news text\n",
    "print(index_without_error)\n",
    "trade_news_predict_prices.all_headlines_df = trade_news_predict_prices.all_headlines_df[:index_without_error + 1]"
   ]
  },
  {
   "cell_type": "code",
   "execution_count": 38,
   "metadata": {},
   "outputs": [
    {
     "name": "stdout",
     "output_type": "stream",
     "text": [
      "data/backup_headlines/all_headlines_df_2021-06-21_v1.csv\n"
     ]
    }
   ],
   "source": []
  },
  {
   "cell_type": "code",
   "execution_count": 39,
   "metadata": {},
   "outputs": [
    {
     "name": "stdout",
     "output_type": "stream",
     "text": [
      "data/logger/quasi_logger_2021-06-21_v6.csv\n"
     ]
    }
   ],
   "source": []
  },
  {
   "cell_type": "code",
   "execution_count": null,
   "metadata": {},
   "outputs": [],
   "source": []
  },
  {
   "cell_type": "code",
   "execution_count": 40,
   "metadata": {},
   "outputs": [
    {
     "data": {
      "image/png": "[encoded data removed]",
      "text/plain": [
       "<Figure size 1440x480 with 1 Axes>"
      ]
     },
     "metadata": {},
     "output_type": "display_data"
    }
   ],
   "source": [
    "trade_news_predict_prices.all_headlines_df['versionCreated'].plot(figsize=(18,6))\n",
    "plt.xlabel('Index of object in df')\n",
    "plt.ylabel('Release date')\n",
    "plt.title('News release dates of obtained texts')\n",
    "# plt.grid(True, axis='x')\n",
    "plt.savefig('exhibits_saved/'+ 'News release dates of obtained texts', bbox_inches = \"tight\")"
   ]
  },
  {
   "cell_type": "markdown",
   "metadata": {},
   "source": [
    "# Manually save df with collected news and logger"
   ]
  },
  {
   "cell_type": "code",
   "execution_count": 41,
   "metadata": {},
   "outputs": [
    {
     "name": "stdout",
     "output_type": "stream",
     "text": [
      "data/backup_headlines/all_headlines_df_2021-06-21_v2.csv\n"
     ]
    }
   ],
   "source": [
    "# Manually save all_headlines_df\n",
    "from trade_news_predict_prices import save_file_as_new_file_without_replacing \n",
    "save_file_as_new_file_without_replacing(\n",
    "    path_project_folder='',\n",
    "    folder_name_to_save=general_constants.loc['folder_name_headlines'][0],\n",
    "    file_to_save=trade_news_predict_prices.all_headlines_df,\n",
    "    file_short_name_add_to_path='all_headlines_df')"
   ]
  },
  {
   "cell_type": "code",
   "execution_count": 42,
   "metadata": {},
   "outputs": [
    {
     "name": "stdout",
     "output_type": "stream",
     "text": [
      "data/logger/quasi_logger_2021-06-21_v7.csv\n"
     ]
    }
   ],
   "source": [
    "# Сохранить версию логгера вручную\n",
    "from trade_news_predict_prices import save_file_as_new_file_without_replacing \n",
    "save_file_as_new_file_without_replacing(\n",
    "    path_project_folder='',\n",
    "    folder_name_to_save=general_constants.loc['folder_name_logger'][0],\n",
    "    file_to_save=trade_news_predict_prices.quasi_logger,\n",
    "    file_short_name_add_to_path='quasi_logger')"
   ]
  },
  {
   "cell_type": "code",
   "execution_count": null,
   "metadata": {},
   "outputs": [],
   "source": []
  },
  {
   "cell_type": "code",
   "execution_count": null,
   "metadata": {},
   "outputs": [],
   "source": []
  },
  {
   "cell_type": "markdown",
   "metadata": {},
   "source": [
    "# Lines of code to update all_headlines_df with recent news"
   ]
  },
  {
   "cell_type": "markdown",
   "metadata": {},
   "source": [
    "- `all_headlines_df` will contain absolutely ALL NEWS\n",
    "- `trade_news_predict_prices.all_headlines_df` will contain recent news\n",
    "\n",
    "And these recent news will be added to `all_headlines_df` and saved"
   ]
  },
  {
   "cell_type": "code",
   "execution_count": 77,
   "metadata": {},
   "outputs": [
    {
     "name": "stdout",
     "output_type": "stream",
     "text": [
      "(1151, 6) data/backup_headlines/all_headlines_df_2021-06-21_v3.csv\n"
     ]
    }
   ],
   "source": [
    "# Read the file with ALL NEWS\n",
    "from trade_news_predict_prices import get_name_of_latest_file_in_folder \n",
    "latest_file = get_name_of_latest_file_in_folder(general_constants.loc['folder_name_headlines'][0])\n",
    "all_headlines_df = pd.read_csv(latest_file, sep=';')\n",
    "all_headlines_df['versionCreated'] = pd.to_datetime(all_headlines_df['versionCreated'])\n",
    "print(all_headlines_df.shape, latest_file)"
   ]
  },
  {
   "cell_type": "code",
   "execution_count": 78,
   "metadata": {},
   "outputs": [
    {
     "name": "stdout",
     "output_type": "stream",
     "text": [
      "(1430, 9) data/logger/quasi_logger_2021-06-21_v20.csv\n"
     ]
    }
   ],
   "source": [
    "# We create all_headlines_df as a var of module - it will contain recent news\n",
    "trade_news_predict_prices.all_headlines_df = pd.DataFrame(data = [], columns=[\"ric\", \"versionCreated\", \"headline\", \"storyId\", \"sourceCode\", \"story\"])\n",
    "\n",
    "# Crate kinda logger\n",
    "\n",
    "# We will use the same logger file\n",
    "from trade_news_predict_prices import get_name_of_latest_file_in_folder \n",
    "latest_file = get_name_of_latest_file_in_folder(general_constants.loc['folder_name_logger'][0])\n",
    "trade_news_predict_prices.quasi_logger = pd.read_csv(latest_file, sep=';')\n",
    "trade_news_predict_prices.quasi_logger['date_time'] = pd.to_datetime(trade_news_predict_prices.quasi_logger['date_time'])\n",
    "print(trade_news_predict_prices.quasi_logger.shape, latest_file)"
   ]
  },
  {
   "cell_type": "code",
   "execution_count": 79,
   "metadata": {},
   "outputs": [
    {
     "name": "stdout",
     "output_type": "stream",
     "text": [
      "['FBC.N', 'HYLS.OQ', 'JACK.OQ', 'STRA.OQ']\n"
     ]
    }
   ],
   "source": [
    "# Some news are already gathered for these rics in trade_news_predict_prices.all_headlines_df\n",
    "# We can continue gather news from these rics\n",
    "# up_to_date_not_older_than param controls\n",
    "existing_rics = pd.DataFrame(data = [], columns=[])\n",
    "existing_rics['ric'] = list(all_headlines_df.groupby('ric').agg(['count']).index)\n",
    "print(list(existing_rics['ric']))"
   ]
  },
  {
   "cell_type": "markdown",
   "metadata": {},
   "source": [
    "`dont_collect_such_old_news` param controls the period of gathering recent news"
   ]
  },
  {
   "cell_type": "code",
   "execution_count": 80,
   "metadata": {},
   "outputs": [
    {
     "name": "stdout",
     "output_type": "stream",
     "text": [
      "0 FBC.N\n",
      "\n",
      "is_this_ric_in_all: False   up_to_date_ric: None got successfully news_get_df.shape: 20\n",
      "0; 1; 2; 3; 4; 5; 6; 7; 8; 9; 10; 11; 12; 13; 14; 15; 16; 17; 18; 19; \n",
      "2021-06-21 15:15:46.503054 FBC.N  ric_i: 0  headline_slice_i: 1  headline_number: 20  not null: 20 None\n",
      "(20, 6)\n",
      "\n",
      "is_this_ric_in_all: True   up_to_date_ric: 2021-05-28 20:18:53.953000+00:00 data/logger/quasi_logger_2021-06-21_v21.csv\n",
      "1 HYLS.OQ\n",
      "\n",
      "is_this_ric_in_all: False   up_to_date_ric: None got successfully news_get_df.shape: 15\n",
      "0; 1; 2; 3; 4; 5; 6; 7; 8; 9; 10; 11; 12; 13; 14; \n",
      "2021-06-21 15:16:02.526576 HYLS.OQ  ric_i: 1  headline_slice_i: 1  headline_number: 15  not null: 15 None\n",
      "(35, 6)\n",
      "data/logger/quasi_logger_2021-06-21_v22.csv\n",
      "2 JACK.OQ\n",
      "\n",
      "is_this_ric_in_all: False   up_to_date_ric: None got successfully news_get_df.shape: 20\n",
      "0; 1; 2; 3; 4; 5; 6; 7; 8; 9; 10; 11; 12; 13; 14; 15; 16; 17; 18; 19; \n",
      "2021-06-21 15:16:13.526726 JACK.OQ  ric_i: 2  headline_slice_i: 1  headline_number: 20  not null: 20 None\n",
      "(55, 6)\n",
      "\n",
      "is_this_ric_in_all: True   up_to_date_ric: 2021-06-02 21:54:07.327000+00:00 data/logger/quasi_logger_2021-06-21_v23.csv\n",
      "3 STRA.OQ\n",
      "\n",
      "is_this_ric_in_all: False   up_to_date_ric: None got successfully news_get_df.shape: 20\n",
      "0; 1; 2; 3; 4; 5; 6; 7; 8; 9; 10; 11; 12; 13; 14; 15; 16; 17; 18; 19; \n",
      "2021-06-21 15:16:26.905600 STRA.OQ  ric_i: 3  headline_slice_i: 1  headline_number: 20  not null: 20 None\n",
      "(75, 6)\n",
      "\n",
      "is_this_ric_in_all: True   up_to_date_ric: 2021-04-29 21:18:33.970000+00:00 data/logger/quasi_logger_2021-06-21_v24.csv\n"
     ]
    }
   ],
   "source": [
    "# Collect only recent news of previously collected companies\n",
    "\n",
    "from trade_news_predict_prices import get_headlines_and_full_text_news_save \n",
    "get_headlines_and_full_text_news_save(\n",
    "    rics_to_loop_df=existing_rics, # rics_dax, rics_usa_df\n",
    "    column_name_with_rics='ric',\n",
    "    column_name_with_dates='versionCreated',\n",
    "    col_name_with_story_id = 'storyId',\n",
    "    headlines_count_to_request=20,\n",
    "    max_num_tries=5,\n",
    "    dont_collect_such_old_news='2021-06-20',\n",
    "    save_logger=False,\n",
    "    save_all_headlines_df=False,\n",
    "    folder_name_to_save_all_headlines_df=general_constants.loc['folder_name_headlines'][0],\n",
    "    folder_name_to_save_save_logger=general_constants.loc['folder_name_logger'][0],\n",
    ")"
   ]
  },
  {
   "cell_type": "code",
   "execution_count": 81,
   "metadata": {},
   "outputs": [
    {
     "name": "stdout",
     "output_type": "stream",
     "text": [
      "ALL NEWS:\n",
      "all_headlines_df: (1151, 6)\n",
      "\n",
      "Recent news:\n",
      "trade_news_predict_prices.all_headlines_df: (75, 6)\n"
     ]
    }
   ],
   "source": [
    "print('ALL NEWS:')\n",
    "print('all_headlines_df:', all_headlines_df.shape)\n",
    "print()\n",
    "print('Recent news:')\n",
    "print('trade_news_predict_prices.all_headlines_df:', trade_news_predict_prices.all_headlines_df.shape)\n"
   ]
  },
  {
   "cell_type": "code",
   "execution_count": 82,
   "metadata": {},
   "outputs": [
    {
     "name": "stdout",
     "output_type": "stream",
     "text": [
      "(1151, 6) (75, 6)\n",
      "(1226, 6)\n",
      "(1151, 6)\n"
     ]
    }
   ],
   "source": [
    "# Add recent news to df with ALL NEWS\n",
    "print(all_headlines_df.shape, trade_news_predict_prices.all_headlines_df.shape)\n",
    "all_headlines_df = all_headlines_df.append(trade_news_predict_prices.all_headlines_df, ignore_index=True)\n",
    "print(all_headlines_df.shape)\n",
    "\n",
    "# Delete duplicates of ric + storyId\n",
    "all_headlines_df.drop_duplicates(subset=['ric', 'storyId'], keep='first', inplace=True)\n",
    "print(all_headlines_df.shape)"
   ]
  },
  {
   "cell_type": "markdown",
   "metadata": {},
   "source": [
    "# Save all_headlines_df and logger after adding recent news"
   ]
  },
  {
   "cell_type": "code",
   "execution_count": 83,
   "metadata": {},
   "outputs": [
    {
     "name": "stdout",
     "output_type": "stream",
     "text": [
      "data/backup_headlines/all_headlines_df_2021-06-21_v4.csv\n"
     ]
    }
   ],
   "source": [
    "# Manually save all_headlines_df\n",
    "from trade_news_predict_prices import save_file_as_new_file_without_replacing \n",
    "save_file_as_new_file_without_replacing(\n",
    "    path_project_folder='',\n",
    "    folder_name_to_save=general_constants.loc['folder_name_headlines'][0],\n",
    "    file_to_save=all_headlines_df,\n",
    "    file_short_name_add_to_path='all_headlines_df')"
   ]
  },
  {
   "cell_type": "code",
   "execution_count": 84,
   "metadata": {},
   "outputs": [
    {
     "name": "stdout",
     "output_type": "stream",
     "text": [
      "data/logger/quasi_logger_2021-06-21_v25.csv\n"
     ]
    }
   ],
   "source": [
    "# Manually save quasi_logger\n",
    "from trade_news_predict_prices import save_file_as_new_file_without_replacing \n",
    "save_file_as_new_file_without_replacing(\n",
    "    path_project_folder='',\n",
    "    folder_name_to_save=general_constants.loc['folder_name_logger'][0],\n",
    "    file_to_save=trade_news_predict_prices.quasi_logger,\n",
    "    file_short_name_add_to_path='quasi_logger')"
   ]
  },
  {
   "cell_type": "code",
   "execution_count": null,
   "metadata": {},
   "outputs": [],
   "source": []
  },
  {
   "cell_type": "code",
   "execution_count": null,
   "metadata": {},
   "outputs": [],
   "source": []
  }
 ],
 "metadata": {
  "kernelspec": {
   "display_name": "Python 3",
   "language": "python",
   "name": "python3"
  },
  "language_info": {
   "codemirror_mode": {
    "name": "ipython",
    "version": 3
   },
   "file_extension": ".py",
   "mimetype": "text/x-python",
   "name": "python",
   "nbconvert_exporter": "python",
   "pygments_lexer": "ipython3",
   "version": "3.7.9"
  }
 },
 "nbformat": 4,
 "nbformat_minor": 4
}
