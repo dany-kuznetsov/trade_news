{
 "cells": [
  {
   "cell_type": "markdown",
   "metadata": {},
   "source": [
    "# Create merged table with all labelled texts from several files of texts with label"
   ]
  },
  {
   "cell_type": "markdown",
   "metadata": {},
   "source": [
    "## Ordinary imports"
   ]
  },
  {
   "cell_type": "code",
   "execution_count": 2,
   "metadata": {},
   "outputs": [],
   "source": [
    "from pandas_datareader import data\n",
    "from pandas_datareader._utils import RemoteDataError\n",
    "import matplotlib.pyplot as plt\n",
    "import pandas as pd\n",
    "import numpy as np\n",
    "import math\n",
    "import csv\n",
    "import re\n",
    "from datetime import datetime\n",
    "\n",
    "import os.path\n",
    "from os import path\n",
    "import time\n",
    "\n",
    "# import sklearn\n",
    "# import scipy\n",
    "\n",
    "# from sklearn.naive_bayes import GaussianNB\n",
    "# import lightgbm as lightgbm\n",
    "# from xgboost import XGBClassifier\n",
    "# import keras\n",
    "\n",
    "# Get Started\n",
    "# https://github.com/Refinitiv-API-Samples/Article.EikonDataAPI.DotNet.Library\n",
    "# API limits\n",
    "# https://developers.refinitiv.com/en/api-catalog/eikon/eikon-data-api/documentation?content=49692&type=documentation_item\n",
    "import eikon as ek \n",
    "\n",
    "from pylab import rcParams\n",
    "plt.rcParams['figure.figsize'] = 16, 8"
   ]
  },
  {
   "cell_type": "code",
   "execution_count": 3,
   "metadata": {},
   "outputs": [],
   "source": [
    "# Settings for charts to increase fonts and sizes.\n",
    "fontsize_reg = 12\n",
    "fontsize_title = 16\n",
    "from pylab import rcParams\n",
    "rcParams['figure.facecolor'] = '1'\n",
    "rcParams['figure.figsize'] = [8.0, 3.5]\n",
    "rcParams['figure.dpi'] = 80\n",
    "rcParams['savefig.dpi'] = 600\n",
    "\n",
    "rcParams['font.size'] = 12\n",
    "rcParams['legend.fontsize'] = 'large'\n",
    "rcParams['figure.titlesize'] = 'large'\n",
    "\n",
    "plt.rcParams['axes.axisbelow'] = True"
   ]
  },
  {
   "cell_type": "markdown",
   "metadata": {},
   "source": [
    "## Import custom function to collect news and prices, work with file system and modelling"
   ]
  },
  {
   "cell_type": "code",
   "execution_count": 4,
   "metadata": {},
   "outputs": [],
   "source": [
    "import trade_news_predict_prices"
   ]
  },
  {
   "cell_type": "markdown",
   "metadata": {},
   "source": [
    "# Some constants (path, random seeed, api key)"
   ]
  },
  {
   "cell_type": "code",
   "execution_count": 10,
   "metadata": {},
   "outputs": [
    {
     "data": {
      "text/html": [
       "<div>\n",
       "<style scoped>\n",
       "    .dataframe tbody tr th:only-of-type {\n",
       "        vertical-align: middle;\n",
       "    }\n",
       "\n",
       "    .dataframe tbody tr th {\n",
       "        vertical-align: top;\n",
       "    }\n",
       "\n",
       "    .dataframe thead th {\n",
       "        text-align: right;\n",
       "    }\n",
       "</style>\n",
       "<table border=\"1\" class=\"dataframe\">\n",
       "  <thead>\n",
       "    <tr style=\"text-align: right;\">\n",
       "      <th></th>\n",
       "      <th>value</th>\n",
       "    </tr>\n",
       "    <tr>\n",
       "      <th>variable_name</th>\n",
       "      <th></th>\n",
       "    </tr>\n",
       "  </thead>\n",
       "  <tbody>\n",
       "    <tr>\n",
       "      <th>random_seed</th>\n",
       "      <td>420</td>\n",
       "    </tr>\n",
       "    <tr>\n",
       "      <th>directory_path</th>\n",
       "      <td>C:/DAN/t_systems/trade_news</td>\n",
       "    </tr>\n",
       "    <tr>\n",
       "      <th>folder_name_headlines</th>\n",
       "      <td>data/backup_headlines/</td>\n",
       "    </tr>\n",
       "    <tr>\n",
       "      <th>folder_name_logger</th>\n",
       "      <td>data/logger/</td>\n",
       "    </tr>\n",
       "    <tr>\n",
       "      <th>folder_name_merged_news_and_prices</th>\n",
       "      <td>data/merged_news_and_prices/</td>\n",
       "    </tr>\n",
       "    <tr>\n",
       "      <th>folder_name_for_labelling</th>\n",
       "      <td>data/for_labelling/</td>\n",
       "    </tr>\n",
       "    <tr>\n",
       "      <th>folder_name_for_labeled_news_iter1</th>\n",
       "      <td>data/labeled_news_iter1/</td>\n",
       "    </tr>\n",
       "    <tr>\n",
       "      <th>set_app_key1</th>\n",
       "      <td>ccebd1ff788d4574818be93e35c4741925ac214e</td>\n",
       "    </tr>\n",
       "    <tr>\n",
       "      <th>set_app_key2</th>\n",
       "      <td>a8be043d709946238759b0c5cb34c8f90d4e6f2c</td>\n",
       "    </tr>\n",
       "  </tbody>\n",
       "</table>\n",
       "</div>"
      ],
      "text/plain": [
       "                                                                       value\n",
       "variable_name                                                               \n",
       "random_seed                                                              420\n",
       "directory_path                                   C:/DAN/t_systems/trade_news\n",
       "folder_name_headlines                                 data/backup_headlines/\n",
       "folder_name_logger                                              data/logger/\n",
       "folder_name_merged_news_and_prices              data/merged_news_and_prices/\n",
       "folder_name_for_labelling                                data/for_labelling/\n",
       "folder_name_for_labeled_news_iter1                  data/labeled_news_iter1/\n",
       "set_app_key1                        ccebd1ff788d4574818be93e35c4741925ac214e\n",
       "set_app_key2                        a8be043d709946238759b0c5cb34c8f90d4e6f2c"
      ]
     },
     "execution_count": 10,
     "metadata": {},
     "output_type": "execute_result"
    }
   ],
   "source": [
    "general_constants = pd.read_csv('general_constants.txt', sep=',', delimiter = \",\", header='infer', index_col='variable_name')\n",
    "general_constants"
   ]
  },
  {
   "cell_type": "code",
   "execution_count": 11,
   "metadata": {},
   "outputs": [
    {
     "name": "stdout",
     "output_type": "stream",
     "text": [
      "420\n",
      "C:/DAN/t_systems/trade_news\n"
     ]
    }
   ],
   "source": [
    "# Path to folder with directory is a constant value that stores in .txt\n",
    "# You can change them in some_constants.txt file or define them on your own.\n",
    "directory_path = str(general_constants.loc['directory_path'][0])\n",
    "random_seed = int(general_constants.loc['random_seed'][0])\n",
    "print(random_seed)\n",
    "print(directory_path)"
   ]
  },
  {
   "cell_type": "code",
   "execution_count": null,
   "metadata": {},
   "outputs": [],
   "source": []
  },
  {
   "cell_type": "markdown",
   "metadata": {},
   "source": [
    "# Read several files with labels and merge them"
   ]
  },
  {
   "cell_type": "code",
   "execution_count": 5,
   "metadata": {},
   "outputs": [
    {
     "data": {
      "text/plain": [
       "17"
      ]
     },
     "execution_count": 5,
     "metadata": {},
     "output_type": "execute_result"
    }
   ],
   "source": [
    "# Only labelling columns are selected\n",
    "cols_of_labelling = [\n",
    "#     'Unnamed: 0',\n",
    "#     'storyId',\n",
    "#     'versionCreated',\n",
    "#     'sourceCode',\n",
    "#     'ric',\n",
    "#     'story_lang',\n",
    "#     'Analyst_Rating',\n",
    "#     'Asset_Sale',\n",
    "#     'Collaboration',\n",
    "#     'Contract_-_Agreement_-_Deal',\n",
    "#     'Credit_Debt_Rating',\n",
    "#     'Dividend',\n",
    "#     'Eco_Issues',\n",
    "#     'Executive_Change',\n",
    "#     'Financial_Results',\n",
    "#     'Investigation',\n",
    "#     'Investment',\n",
    "#     'Lawsuit',\n",
    "#     'Merger_and_Acquisition',\n",
    "#     'Price_Target',\n",
    "#     'Product_Update',\n",
    "#     'Security_Protection',\n",
    "#     'Settlement',\n",
    "#     'Stock_Buyback',\n",
    "#     'Workforce_Change',\n",
    "#     'number_of_types_detected',\n",
    "#     'headline',\n",
    "#     'story_wo_html',\n",
    "    'my_label_Analyst_Rating',\n",
    "#    'my_label_Asset_Sale',\n",
    "    'my_label_Collaboration',\n",
    "    'my_label_Contract_-_Agreement_-_Deal',\n",
    "    'my_label_Credit_Debt_Rating',\n",
    "    'my_label_Dividend',\n",
    "    'my_label_Eco_Issues',\n",
    "    'my_label_Executive_Change',\n",
    "    'my_label_Financial_Results',\n",
    "    'my_label_Investigation',\n",
    "    'my_label_Investment',\n",
    "    'my_label_Lawsuit',\n",
    "#    'my_label_Merger_and_Acquisition',\n",
    "    'my_label_Price_Target',\n",
    "    'my_label_Product_Update',\n",
    "    'my_label_Security_Protection',\n",
    "    'my_label_Settlement',\n",
    "    'my_label_Stock_Buyback',\n",
    "    'my_label_Workforce_Change',\n",
    "#     'my_label_digest'\n",
    "]\n",
    "\n",
    "len(cols_of_labelling)"
   ]
  },
  {
   "cell_type": "code",
   "execution_count": 13,
   "metadata": {},
   "outputs": [
    {
     "data": {
      "text/plain": [
       "20"
      ]
     },
     "execution_count": 13,
     "metadata": {},
     "output_type": "execute_result"
    }
   ],
   "source": [
    "# Create list of paths to files with labels to iterate them \n",
    "import re\n",
    "from trade_news_predict_prices import get_files_name_in_folder\n",
    "regex_for_filter = re.compile(r'/for_labelling(.*).xlsx')\n",
    "\n",
    "files_list_labelling = list(filter(\n",
    "    regex_for_filter.search, \n",
    "    get_files_name_in_folder(\n",
    "        folder_name=general_constants.loc['folder_name_for_labeled_news_iter1'][0])\n",
    "))\n",
    "\n",
    "len(files_list_labelling)"
   ]
  },
  {
   "cell_type": "code",
   "execution_count": 14,
   "metadata": {},
   "outputs": [
    {
     "name": "stdout",
     "output_type": "stream",
     "text": [
      "1 1 data/labeled_news_iter1/for_labelling2_Merger_and_Acquisition.xlsx\n",
      "100 101 data/labeled_news_iter1/for_labelling_Analyst_Rating.xlsx\n",
      "0 101 data/labeled_news_iter1/for_labelling_Asset_Sale.xlsx\n",
      "43 144 data/labeled_news_iter1/for_labelling_Collaboration.xlsx\n",
      "51 195 data/labeled_news_iter1/for_labelling_Contract_-_Agreement_-_Deal.xlsx\n",
      "22 217 data/labeled_news_iter1/for_labelling_Credit_Debt_Rating.xlsx\n",
      "64 281 data/labeled_news_iter1/for_labelling_Dividend.xlsx\n",
      "44 325 data/labeled_news_iter1/for_labelling_Eco_Issues.xlsx\n",
      "37 362 data/labeled_news_iter1/for_labelling_Executive_Change.xlsx\n",
      "80 442 data/labeled_news_iter1/for_labelling_Financial_Results.xlsx\n",
      "64 506 data/labeled_news_iter1/for_labelling_Investigation.xlsx\n",
      "28 534 data/labeled_news_iter1/for_labelling_Investment.xlsx\n",
      "42 576 data/labeled_news_iter1/for_labelling_Lawsuit.xlsx\n",
      "3 579 data/labeled_news_iter1/for_labelling_Merger_and_Acquisition.xlsx\n",
      "52 631 data/labeled_news_iter1/for_labelling_Price_Target.xlsx\n",
      "35 666 data/labeled_news_iter1/for_labelling_Product_Update.xlsx\n",
      "35 701 data/labeled_news_iter1/for_labelling_Security_Protection.xlsx\n",
      "33 734 data/labeled_news_iter1/for_labelling_Settlement.xlsx\n",
      "47 781 data/labeled_news_iter1/for_labelling_Stock_Buyback.xlsx\n",
      "70 851 data/labeled_news_iter1/for_labelling_Workforce_Change.xlsx\n"
     ]
    }
   ],
   "source": [
    "labelling_all_df = pd.DataFrame(data = [], columns=[])\n",
    "\n",
    "for file_name_now in files_list_labelling:\n",
    "    # Earlier we have already created a list of files with full paths, let's iterate over it\n",
    "    labelled_slice_now = pd.read_excel(file_name_now)\n",
    "\n",
    "    # Select only columns with labels and news ID\n",
    "    try:\n",
    "        # Let's try to load the 'my_label_digest' column\n",
    "        # It means that the text contains several different news at once\n",
    "        labelled_slice_now = labelled_slice_now[\n",
    "            ['storyId'] + cols_of_labelling + ['my_label_digest']\n",
    "        ]\n",
    "    except Exception as e:\n",
    "        # If it didn't work, try without this column\n",
    "        # print (e, end = '')\n",
    "        labelled_slice_now = labelled_slice_now[\n",
    "            ['storyId'] + cols_of_labelling\n",
    "        ]        \n",
    "\n",
    "    # Replace the blanks with zeros. Zero - news is not about this type of event\n",
    "    labelled_slice_now = labelled_slice_now\n",
    "    labelled_slice_now['labels_sum'] = labelled_slice_now.sum(axis=1)\n",
    "    labelled_slice_now = labelled_slice_now[labelled_slice_now['labels_sum'] > 0].reset_index(drop=True)\n",
    "\n",
    "    print(labelled_slice_now.shape[0], end=' ')\n",
    "    \n",
    "    labelling_all_df = labelling_all_df.append(labelled_slice_now, ignore_index = True)\n",
    "    \n",
    "    print(labelling_all_df.shape[0], end=' ')\n",
    "    \n",
    "    print(file_name_now)\n",
    "\n",
    "labelling_all_df = labelling_all_df.replace(np.nan, 0)\n",
    "labelling_all_df = labelling_all_df.drop(columns=['labels_sum'])\n",
    "\n",
    "# Replace all twos and ones with ones, leaving only two possible labels\n",
    "labelling_all_df = labelling_all_df.replace(2, 1)\n",
    "labelling_all_df = labelling_all_df.replace(1, 1)\n",
    "labelling_all_df = labelling_all_df.replace(0, 0)"
   ]
  },
  {
   "cell_type": "code",
   "execution_count": 16,
   "metadata": {},
   "outputs": [
    {
     "name": "stdout",
     "output_type": "stream",
     "text": [
      "918.0\n"
     ]
    },
    {
     "data": {
      "image/png": "[encoded data removed]",
      "text/plain": [
       "<Figure size 640x480 with 1 Axes>"
      ]
     },
     "metadata": {},
     "output_type": "display_data"
    }
   ],
   "source": [
    "print(\n",
    "    labelling_all_df[cols_of_labelling + ['my_label_digest']].sum().sum()\n",
    ")\n",
    "(labelling_all_df[cols_of_labelling + ['my_label_digest']].sum()).plot(kind='barh', width=0.8, figsize=(8,6))\n",
    "plt.title('Number of labelled news per class (event-type)')\n",
    "plt.grid(True, axis='x')\n",
    "plt.savefig('exhibits_saved/' + 'Number of labelled news per class (event-type).png', bbox_inches = \"tight\")"
   ]
  },
  {
   "cell_type": "code",
   "execution_count": 17,
   "metadata": {},
   "outputs": [
    {
     "data": {
      "text/html": [
       "<div>\n",
       "<style scoped>\n",
       "    .dataframe tbody tr th:only-of-type {\n",
       "        vertical-align: middle;\n",
       "    }\n",
       "\n",
       "    .dataframe tbody tr th {\n",
       "        vertical-align: top;\n",
       "    }\n",
       "\n",
       "    .dataframe thead th {\n",
       "        text-align: right;\n",
       "    }\n",
       "</style>\n",
       "<table border=\"1\" class=\"dataframe\">\n",
       "  <thead>\n",
       "    <tr style=\"text-align: right;\">\n",
       "      <th></th>\n",
       "      <th>storyId</th>\n",
       "      <th>my_label_Analyst_Rating</th>\n",
       "      <th>my_label_Collaboration</th>\n",
       "      <th>my_label_Contract_-_Agreement_-_Deal</th>\n",
       "      <th>my_label_Credit_Debt_Rating</th>\n",
       "      <th>my_label_Dividend</th>\n",
       "      <th>my_label_Eco_Issues</th>\n",
       "      <th>my_label_Executive_Change</th>\n",
       "      <th>my_label_Financial_Results</th>\n",
       "      <th>my_label_Investigation</th>\n",
       "      <th>my_label_Investment</th>\n",
       "      <th>my_label_Lawsuit</th>\n",
       "      <th>my_label_Price_Target</th>\n",
       "      <th>my_label_Product_Update</th>\n",
       "      <th>my_label_Security_Protection</th>\n",
       "      <th>my_label_Settlement</th>\n",
       "      <th>my_label_Stock_Buyback</th>\n",
       "      <th>my_label_Workforce_Change</th>\n",
       "      <th>my_label_digest</th>\n",
       "      <th>list_label</th>\n",
       "    </tr>\n",
       "  </thead>\n",
       "  <tbody>\n",
       "    <tr>\n",
       "      <th>850</th>\n",
       "      <td>urn:newsml:reuters.com:20191209:nNRAaepw3s:1</td>\n",
       "      <td>0.0</td>\n",
       "      <td>0.0</td>\n",
       "      <td>0.0</td>\n",
       "      <td>0.0</td>\n",
       "      <td>0.0</td>\n",
       "      <td>0.0</td>\n",
       "      <td>0.0</td>\n",
       "      <td>0.0</td>\n",
       "      <td>0.0</td>\n",
       "      <td>0.0</td>\n",
       "      <td>0.0</td>\n",
       "      <td>0.0</td>\n",
       "      <td>0.0</td>\n",
       "      <td>0.0</td>\n",
       "      <td>0.0</td>\n",
       "      <td>0.0</td>\n",
       "      <td>1.0</td>\n",
       "      <td>0.0</td>\n",
       "      <td>[0.0, 0.0, 0.0, 0.0, 0.0, 0.0, 0.0, 0.0, 0.0, ...</td>\n",
       "    </tr>\n",
       "  </tbody>\n",
       "</table>\n",
       "</div>"
      ],
      "text/plain": [
       "                                          storyId  my_label_Analyst_Rating  \\\n",
       "850  urn:newsml:reuters.com:20191209:nNRAaepw3s:1                      0.0   \n",
       "\n",
       "     my_label_Collaboration  my_label_Contract_-_Agreement_-_Deal  \\\n",
       "850                     0.0                                   0.0   \n",
       "\n",
       "     my_label_Credit_Debt_Rating  my_label_Dividend  my_label_Eco_Issues  \\\n",
       "850                          0.0                0.0                  0.0   \n",
       "\n",
       "     my_label_Executive_Change  my_label_Financial_Results  \\\n",
       "850                        0.0                         0.0   \n",
       "\n",
       "     my_label_Investigation  my_label_Investment  my_label_Lawsuit  \\\n",
       "850                     0.0                  0.0               0.0   \n",
       "\n",
       "     my_label_Price_Target  my_label_Product_Update  \\\n",
       "850                    0.0                      0.0   \n",
       "\n",
       "     my_label_Security_Protection  my_label_Settlement  \\\n",
       "850                           0.0                  0.0   \n",
       "\n",
       "     my_label_Stock_Buyback  my_label_Workforce_Change  my_label_digest  \\\n",
       "850                     0.0                        1.0              0.0   \n",
       "\n",
       "                                            list_label  \n",
       "850  [0.0, 0.0, 0.0, 0.0, 0.0, 0.0, 0.0, 0.0, 0.0, ...  "
      ]
     },
     "execution_count": 17,
     "metadata": {},
     "output_type": "execute_result"
    }
   ],
   "source": [
    "labelling_all_df['list_label'] = labelling_all_df[cols_of_labelling + ['my_label_digest']].values.tolist()\n",
    "labelling_all_df.tail(1)"
   ]
  },
  {
   "cell_type": "code",
   "execution_count": 18,
   "metadata": {},
   "outputs": [
    {
     "data": {
      "text/plain": [
       "storyId                                 urn:newsml:reuters.com:20201022:nNDL3RTZ1L:1ur...\n",
       "my_label_Analyst_Rating                                                               107\n",
       "my_label_Collaboration                                                                 57\n",
       "my_label_Contract_-_Agreement_-_Deal                                                   35\n",
       "my_label_Credit_Debt_Rating                                                            22\n",
       "my_label_Dividend                                                                      49\n",
       "my_label_Eco_Issues                                                                    51\n",
       "my_label_Executive_Change                                                              46\n",
       "my_label_Financial_Results                                                             86\n",
       "my_label_Investigation                                                                 70\n",
       "my_label_Investment                                                                    19\n",
       "my_label_Lawsuit                                                                       55\n",
       "my_label_Price_Target                                                                  31\n",
       "my_label_Product_Update                                                                67\n",
       "my_label_Security_Protection                                                           17\n",
       "my_label_Settlement                                                                    33\n",
       "my_label_Stock_Buyback                                                                 46\n",
       "my_label_Workforce_Change                                                              71\n",
       "my_label_digest                                                                        56\n",
       "list_label                              [0.0, 0.0, 0.0, 0.0, 0.0, 0.0, 0.0, 1.0, 0.0, ...\n",
       "dtype: object"
      ]
     },
     "execution_count": 18,
     "metadata": {},
     "output_type": "execute_result"
    }
   ],
   "source": [
    "labelling_all_df.sum()"
   ]
  },
  {
   "cell_type": "code",
   "execution_count": 20,
   "metadata": {},
   "outputs": [],
   "source": [
    "file_path = 'data/' + 'labelling_all_df' + '.csv'\n",
    "labelling_all_df.to_csv(file_path, index=False)"
   ]
  },
  {
   "cell_type": "code",
   "execution_count": 21,
   "metadata": {},
   "outputs": [
    {
     "data": {
      "text/plain": [
       "Index(['storyId', 'my_label_Analyst_Rating', 'my_label_Collaboration',\n",
       "       'my_label_Contract_-_Agreement_-_Deal', 'my_label_Credit_Debt_Rating',\n",
       "       'my_label_Dividend', 'my_label_Eco_Issues', 'my_label_Executive_Change',\n",
       "       'my_label_Financial_Results', 'my_label_Investigation',\n",
       "       'my_label_Investment', 'my_label_Lawsuit', 'my_label_Price_Target',\n",
       "       'my_label_Product_Update', 'my_label_Security_Protection',\n",
       "       'my_label_Settlement', 'my_label_Stock_Buyback',\n",
       "       'my_label_Workforce_Change', 'my_label_digest', 'list_label'],\n",
       "      dtype='object')"
      ]
     },
     "execution_count": 21,
     "metadata": {},
     "output_type": "execute_result"
    }
   ],
   "source": [
    "labelling_all_df.columns"
   ]
  },
  {
   "cell_type": "markdown",
   "metadata": {},
   "source": [
    "# Save texts with expert's labels"
   ]
  },
  {
   "cell_type": "code",
   "execution_count": 23,
   "metadata": {},
   "outputs": [
    {
     "name": "stdout",
     "output_type": "stream",
     "text": [
      "(399141, 109)\n"
     ]
    }
   ],
   "source": [
    "# Read the computed early file detected expert key words\n",
    "key_words_detection_df = pd.read_csv('data/' + \"key_words_detection_df.csv\")\n",
    "print(key_words_detection_df.shape)"
   ]
  },
  {
   "cell_type": "code",
   "execution_count": 24,
   "metadata": {},
   "outputs": [],
   "source": [
    "# Add texts to our dataset with labels\n",
    "lower_labelled_texts_list_types = pd.merge(\n",
    "    key_words_detection_df, \n",
    "    labelling_all_df[['storyId', 'list_label']], \n",
    "    how=\"right\", \n",
    "    on='storyId'\n",
    ").drop_duplicates(\n",
    "    subset=['storyId'], \n",
    "    keep='first'\n",
    ").reset_index(drop=True) # [['story_wo_html', 'list_label']]\n",
    "\n",
    "lower_labelled_texts_list_types['story_wo_html_lower'] = lower_labelled_texts_list_types['story_wo_html'].str.lower()\n",
    "lower_labelled_texts_list_types = lower_labelled_texts_list_types.drop(columns=['story_wo_html'])\n",
    "\n",
    "lower_labelled_texts_list_types = lower_labelled_texts_list_types[['story_wo_html_lower', 'list_label']]"
   ]
  },
  {
   "cell_type": "code",
   "execution_count": 25,
   "metadata": {},
   "outputs": [],
   "source": [
    "# We can choose an event type for lower_labelled_texts_one_type\n",
    "# But lower_labelled_texts_list_types has info about all event types\n",
    "lower_labelled_texts_one_type = pd.merge(\n",
    "    key_words_detection_df, \n",
    "    labelling_all_df[['storyId', 'my_label_Executive_Change']], \n",
    "    how=\"right\", \n",
    "    on='storyId'\n",
    ").drop_duplicates(\n",
    "    subset=['storyId'], \n",
    "    keep='first'\n",
    ").reset_index(drop=True)[['story_wo_html', 'my_label_Executive_Change']]\n",
    "\n",
    "lower_labelled_texts_one_type['story_wo_html_lower'] = lower_labelled_texts_one_type['story_wo_html'].str.lower()\n",
    "lower_labelled_texts_one_type = lower_labelled_texts_one_type.drop(columns=['story_wo_html'])\n",
    "\n",
    "lower_labelled_texts_one_type = lower_labelled_texts_one_type[['story_wo_html_lower', 'my_label_Executive_Change']]"
   ]
  },
  {
   "cell_type": "code",
   "execution_count": 26,
   "metadata": {},
   "outputs": [
    {
     "name": "stdout",
     "output_type": "stream",
     "text": [
      "Number of labels: 18\n"
     ]
    }
   ],
   "source": [
    "print(\n",
    "    'Number of labels:',\n",
    "    len(lower_labelled_texts_list_types['list_label'][1])\n",
    ")"
   ]
  },
  {
   "cell_type": "code",
   "execution_count": 27,
   "metadata": {},
   "outputs": [
    {
     "data": {
      "text/plain": [
       "[97.0,\n",
       " 52.0,\n",
       " 29.0,\n",
       " 20.0,\n",
       " 46.0,\n",
       " 47.0,\n",
       " 43.0,\n",
       " 82.0,\n",
       " 62.0,\n",
       " 18.0,\n",
       " 46.0,\n",
       " 26.0,\n",
       " 66.0,\n",
       " 17.0,\n",
       " 28.0,\n",
       " 42.0,\n",
       " 68.0,\n",
       " 22.0]"
      ]
     },
     "execution_count": 27,
     "metadata": {},
     "output_type": "execute_result"
    }
   ],
   "source": [
    "df = lower_labelled_texts_list_types['list_label'].apply(pd.Series)\n",
    "\n",
    "df['story_wo_html_lower'] = lower_labelled_texts_list_types['story_wo_html_lower']\n",
    "list(df.sum()[:len(cols_of_labelling) + 1])"
   ]
  },
  {
   "cell_type": "code",
   "execution_count": 28,
   "metadata": {},
   "outputs": [],
   "source": [
    "lower_labelled_texts_list_types.to_csv('data/' + 'lower_labelled_texts_list_types.csv')\n",
    "lower_labelled_texts_one_type.to_csv('data/' + 'lower_labelled_texts_one_type.csv')"
   ]
  },
  {
   "cell_type": "code",
   "execution_count": null,
   "metadata": {},
   "outputs": [],
   "source": []
  },
  {
   "cell_type": "code",
   "execution_count": null,
   "metadata": {},
   "outputs": [],
   "source": []
  }
 ],
 "metadata": {
  "kernelspec": {
   "display_name": "Python 3",
   "language": "python",
   "name": "python3"
  },
  "language_info": {
   "codemirror_mode": {
    "name": "ipython",
    "version": 3
   },
   "file_extension": ".py",
   "mimetype": "text/x-python",
   "name": "python",
   "nbconvert_exporter": "python",
   "pygments_lexer": "ipython3",
   "version": "3.7.9"
  }
 },
 "nbformat": 4,
 "nbformat_minor": 4
}
